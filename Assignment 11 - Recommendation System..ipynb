{
 "cells": [
  {
   "cell_type": "markdown",
   "id": "b3ccd17b",
   "metadata": {},
   "source": [
    "# Step 1: Data Preprocessing"
   ]
  },
  {
   "cell_type": "code",
   "execution_count": 27,
   "id": "899f71a3",
   "metadata": {},
   "outputs": [],
   "source": [
    "import pandas as pd\n",
    "import matplotlib.pyplot as plt\n",
    "import seaborn as sns\n",
    "from sklearn.model_selection import train_test_split\n",
    "import numpy as np"
   ]
  },
  {
   "cell_type": "code",
   "execution_count": 2,
   "id": "3929dc3f",
   "metadata": {},
   "outputs": [],
   "source": [
    "# Load the dataset\n",
    "anime_df = pd.read_csv(r\"D:\\Assignments Data Science ExcelR\\Recommendation System\\Recommendation System\\anime.csv\")"
   ]
  },
  {
   "cell_type": "code",
   "execution_count": 3,
   "id": "a8aad542",
   "metadata": {},
   "outputs": [
    {
     "data": {
      "text/html": [
       "<div>\n",
       "<style scoped>\n",
       "    .dataframe tbody tr th:only-of-type {\n",
       "        vertical-align: middle;\n",
       "    }\n",
       "\n",
       "    .dataframe tbody tr th {\n",
       "        vertical-align: top;\n",
       "    }\n",
       "\n",
       "    .dataframe thead th {\n",
       "        text-align: right;\n",
       "    }\n",
       "</style>\n",
       "<table border=\"1\" class=\"dataframe\">\n",
       "  <thead>\n",
       "    <tr style=\"text-align: right;\">\n",
       "      <th></th>\n",
       "      <th>anime_id</th>\n",
       "      <th>name</th>\n",
       "      <th>genre</th>\n",
       "      <th>type</th>\n",
       "      <th>episodes</th>\n",
       "      <th>rating</th>\n",
       "      <th>members</th>\n",
       "    </tr>\n",
       "  </thead>\n",
       "  <tbody>\n",
       "    <tr>\n",
       "      <th>0</th>\n",
       "      <td>32281</td>\n",
       "      <td>Kimi no Na wa.</td>\n",
       "      <td>Drama, Romance, School, Supernatural</td>\n",
       "      <td>Movie</td>\n",
       "      <td>1</td>\n",
       "      <td>9.37</td>\n",
       "      <td>200630</td>\n",
       "    </tr>\n",
       "    <tr>\n",
       "      <th>1</th>\n",
       "      <td>5114</td>\n",
       "      <td>Fullmetal Alchemist: Brotherhood</td>\n",
       "      <td>Action, Adventure, Drama, Fantasy, Magic, Mili...</td>\n",
       "      <td>TV</td>\n",
       "      <td>64</td>\n",
       "      <td>9.26</td>\n",
       "      <td>793665</td>\n",
       "    </tr>\n",
       "    <tr>\n",
       "      <th>2</th>\n",
       "      <td>28977</td>\n",
       "      <td>Gintama°</td>\n",
       "      <td>Action, Comedy, Historical, Parody, Samurai, S...</td>\n",
       "      <td>TV</td>\n",
       "      <td>51</td>\n",
       "      <td>9.25</td>\n",
       "      <td>114262</td>\n",
       "    </tr>\n",
       "    <tr>\n",
       "      <th>3</th>\n",
       "      <td>9253</td>\n",
       "      <td>Steins;Gate</td>\n",
       "      <td>Sci-Fi, Thriller</td>\n",
       "      <td>TV</td>\n",
       "      <td>24</td>\n",
       "      <td>9.17</td>\n",
       "      <td>673572</td>\n",
       "    </tr>\n",
       "    <tr>\n",
       "      <th>4</th>\n",
       "      <td>9969</td>\n",
       "      <td>Gintama&amp;#039;</td>\n",
       "      <td>Action, Comedy, Historical, Parody, Samurai, S...</td>\n",
       "      <td>TV</td>\n",
       "      <td>51</td>\n",
       "      <td>9.16</td>\n",
       "      <td>151266</td>\n",
       "    </tr>\n",
       "  </tbody>\n",
       "</table>\n",
       "</div>"
      ],
      "text/plain": [
       "   anime_id                              name  \\\n",
       "0     32281                    Kimi no Na wa.   \n",
       "1      5114  Fullmetal Alchemist: Brotherhood   \n",
       "2     28977                          Gintama°   \n",
       "3      9253                       Steins;Gate   \n",
       "4      9969                     Gintama&#039;   \n",
       "\n",
       "                                               genre   type episodes  rating  \\\n",
       "0               Drama, Romance, School, Supernatural  Movie        1    9.37   \n",
       "1  Action, Adventure, Drama, Fantasy, Magic, Mili...     TV       64    9.26   \n",
       "2  Action, Comedy, Historical, Parody, Samurai, S...     TV       51    9.25   \n",
       "3                                   Sci-Fi, Thriller     TV       24    9.17   \n",
       "4  Action, Comedy, Historical, Parody, Samurai, S...     TV       51    9.16   \n",
       "\n",
       "   members  \n",
       "0   200630  \n",
       "1   793665  \n",
       "2   114262  \n",
       "3   673572  \n",
       "4   151266  "
      ]
     },
     "execution_count": 3,
     "metadata": {},
     "output_type": "execute_result"
    }
   ],
   "source": [
    "anime_df.head()"
   ]
  },
  {
   "cell_type": "code",
   "execution_count": 4,
   "id": "e15ccb40",
   "metadata": {},
   "outputs": [
    {
     "data": {
      "text/plain": [
       "Index(['anime_id', 'name', 'genre', 'type', 'episodes', 'rating', 'members'], dtype='object')"
      ]
     },
     "execution_count": 4,
     "metadata": {},
     "output_type": "execute_result"
    }
   ],
   "source": [
    "anime_df.columns"
   ]
  },
  {
   "cell_type": "code",
   "execution_count": 5,
   "id": "027595d0",
   "metadata": {},
   "outputs": [
    {
     "data": {
      "text/html": [
       "<div>\n",
       "<style scoped>\n",
       "    .dataframe tbody tr th:only-of-type {\n",
       "        vertical-align: middle;\n",
       "    }\n",
       "\n",
       "    .dataframe tbody tr th {\n",
       "        vertical-align: top;\n",
       "    }\n",
       "\n",
       "    .dataframe thead th {\n",
       "        text-align: right;\n",
       "    }\n",
       "</style>\n",
       "<table border=\"1\" class=\"dataframe\">\n",
       "  <thead>\n",
       "    <tr style=\"text-align: right;\">\n",
       "      <th></th>\n",
       "      <th>anime_id</th>\n",
       "      <th>rating</th>\n",
       "      <th>members</th>\n",
       "    </tr>\n",
       "  </thead>\n",
       "  <tbody>\n",
       "    <tr>\n",
       "      <th>count</th>\n",
       "      <td>12294.000000</td>\n",
       "      <td>12064.000000</td>\n",
       "      <td>1.229400e+04</td>\n",
       "    </tr>\n",
       "    <tr>\n",
       "      <th>mean</th>\n",
       "      <td>14058.221653</td>\n",
       "      <td>6.473902</td>\n",
       "      <td>1.807134e+04</td>\n",
       "    </tr>\n",
       "    <tr>\n",
       "      <th>std</th>\n",
       "      <td>11455.294701</td>\n",
       "      <td>1.026746</td>\n",
       "      <td>5.482068e+04</td>\n",
       "    </tr>\n",
       "    <tr>\n",
       "      <th>min</th>\n",
       "      <td>1.000000</td>\n",
       "      <td>1.670000</td>\n",
       "      <td>5.000000e+00</td>\n",
       "    </tr>\n",
       "    <tr>\n",
       "      <th>25%</th>\n",
       "      <td>3484.250000</td>\n",
       "      <td>5.880000</td>\n",
       "      <td>2.250000e+02</td>\n",
       "    </tr>\n",
       "    <tr>\n",
       "      <th>50%</th>\n",
       "      <td>10260.500000</td>\n",
       "      <td>6.570000</td>\n",
       "      <td>1.550000e+03</td>\n",
       "    </tr>\n",
       "    <tr>\n",
       "      <th>75%</th>\n",
       "      <td>24794.500000</td>\n",
       "      <td>7.180000</td>\n",
       "      <td>9.437000e+03</td>\n",
       "    </tr>\n",
       "    <tr>\n",
       "      <th>max</th>\n",
       "      <td>34527.000000</td>\n",
       "      <td>10.000000</td>\n",
       "      <td>1.013917e+06</td>\n",
       "    </tr>\n",
       "  </tbody>\n",
       "</table>\n",
       "</div>"
      ],
      "text/plain": [
       "           anime_id        rating       members\n",
       "count  12294.000000  12064.000000  1.229400e+04\n",
       "mean   14058.221653      6.473902  1.807134e+04\n",
       "std    11455.294701      1.026746  5.482068e+04\n",
       "min        1.000000      1.670000  5.000000e+00\n",
       "25%     3484.250000      5.880000  2.250000e+02\n",
       "50%    10260.500000      6.570000  1.550000e+03\n",
       "75%    24794.500000      7.180000  9.437000e+03\n",
       "max    34527.000000     10.000000  1.013917e+06"
      ]
     },
     "execution_count": 5,
     "metadata": {},
     "output_type": "execute_result"
    }
   ],
   "source": [
    "anime_df.describe()"
   ]
  },
  {
   "cell_type": "code",
   "execution_count": 6,
   "id": "b8ccbb21",
   "metadata": {},
   "outputs": [
    {
     "name": "stdout",
     "output_type": "stream",
     "text": [
      "anime_id      0\n",
      "name          0\n",
      "genre        62\n",
      "type         25\n",
      "episodes      0\n",
      "rating      230\n",
      "members       0\n",
      "dtype: int64\n"
     ]
    }
   ],
   "source": [
    "# Check for missing values\n",
    "print(anime_df.isnull().sum())"
   ]
  },
  {
   "cell_type": "code",
   "execution_count": 7,
   "id": "ae52f9a6",
   "metadata": {},
   "outputs": [],
   "source": [
    "# Handle missing values\n",
    "# For simplicity, we can drop rows with missing values for now\n",
    "anime_df = anime_df.dropna()"
   ]
  },
  {
   "cell_type": "code",
   "execution_count": 8,
   "id": "f3b6e7dc",
   "metadata": {},
   "outputs": [
    {
     "name": "stdout",
     "output_type": "stream",
     "text": [
      "anime_id    0\n",
      "name        0\n",
      "genre       0\n",
      "type        0\n",
      "episodes    0\n",
      "rating      0\n",
      "members     0\n",
      "dtype: int64\n"
     ]
    }
   ],
   "source": [
    "# Verify that there are no more missing values\n",
    "print(anime_df.isnull().sum())"
   ]
  },
  {
   "cell_type": "code",
   "execution_count": 9,
   "id": "9b2e7d4b",
   "metadata": {},
   "outputs": [
    {
     "data": {
      "text/html": [
       "<div>\n",
       "<style scoped>\n",
       "    .dataframe tbody tr th:only-of-type {\n",
       "        vertical-align: middle;\n",
       "    }\n",
       "\n",
       "    .dataframe tbody tr th {\n",
       "        vertical-align: top;\n",
       "    }\n",
       "\n",
       "    .dataframe thead th {\n",
       "        text-align: right;\n",
       "    }\n",
       "</style>\n",
       "<table border=\"1\" class=\"dataframe\">\n",
       "  <thead>\n",
       "    <tr style=\"text-align: right;\">\n",
       "      <th></th>\n",
       "      <th>anime_id</th>\n",
       "      <th>rating</th>\n",
       "      <th>members</th>\n",
       "    </tr>\n",
       "  </thead>\n",
       "  <tbody>\n",
       "    <tr>\n",
       "      <th>count</th>\n",
       "      <td>12017.000000</td>\n",
       "      <td>12017.000000</td>\n",
       "      <td>1.201700e+04</td>\n",
       "    </tr>\n",
       "    <tr>\n",
       "      <th>mean</th>\n",
       "      <td>13638.001165</td>\n",
       "      <td>6.478264</td>\n",
       "      <td>1.834888e+04</td>\n",
       "    </tr>\n",
       "    <tr>\n",
       "      <th>std</th>\n",
       "      <td>11231.076675</td>\n",
       "      <td>1.023857</td>\n",
       "      <td>5.537250e+04</td>\n",
       "    </tr>\n",
       "    <tr>\n",
       "      <th>min</th>\n",
       "      <td>1.000000</td>\n",
       "      <td>1.670000</td>\n",
       "      <td>1.200000e+01</td>\n",
       "    </tr>\n",
       "    <tr>\n",
       "      <th>25%</th>\n",
       "      <td>3391.000000</td>\n",
       "      <td>5.890000</td>\n",
       "      <td>2.250000e+02</td>\n",
       "    </tr>\n",
       "    <tr>\n",
       "      <th>50%</th>\n",
       "      <td>9959.000000</td>\n",
       "      <td>6.570000</td>\n",
       "      <td>1.552000e+03</td>\n",
       "    </tr>\n",
       "    <tr>\n",
       "      <th>75%</th>\n",
       "      <td>23729.000000</td>\n",
       "      <td>7.180000</td>\n",
       "      <td>9.588000e+03</td>\n",
       "    </tr>\n",
       "    <tr>\n",
       "      <th>max</th>\n",
       "      <td>34519.000000</td>\n",
       "      <td>10.000000</td>\n",
       "      <td>1.013917e+06</td>\n",
       "    </tr>\n",
       "  </tbody>\n",
       "</table>\n",
       "</div>"
      ],
      "text/plain": [
       "           anime_id        rating       members\n",
       "count  12017.000000  12017.000000  1.201700e+04\n",
       "mean   13638.001165      6.478264  1.834888e+04\n",
       "std    11231.076675      1.023857  5.537250e+04\n",
       "min        1.000000      1.670000  1.200000e+01\n",
       "25%     3391.000000      5.890000  2.250000e+02\n",
       "50%     9959.000000      6.570000  1.552000e+03\n",
       "75%    23729.000000      7.180000  9.588000e+03\n",
       "max    34519.000000     10.000000  1.013917e+06"
      ]
     },
     "execution_count": 9,
     "metadata": {},
     "output_type": "execute_result"
    }
   ],
   "source": [
    "anime_df.describe()"
   ]
  },
  {
   "cell_type": "code",
   "execution_count": 10,
   "id": "c7e656e0",
   "metadata": {},
   "outputs": [
    {
     "name": "stdout",
     "output_type": "stream",
     "text": [
      "['Movie' 'TV' 'OVA' 'Special' 'Music' 'ONA']\n",
      "['Drama, Romance, School, Supernatural'\n",
      " 'Action, Adventure, Drama, Fantasy, Magic, Military, Shounen'\n",
      " 'Action, Comedy, Historical, Parody, Samurai, Sci-Fi, Shounen' ...\n",
      " 'Action, Comedy, Hentai, Romance, Supernatural' 'Hentai, Sports'\n",
      " 'Hentai, Slice of Life']\n"
     ]
    }
   ],
   "source": [
    "# Display unique values in categorical columns\n",
    "print(anime_df['type'].unique())\n",
    "print(anime_df['genre'].unique())"
   ]
  },
  {
   "cell_type": "code",
   "execution_count": 12,
   "id": "56de9c1b",
   "metadata": {},
   "outputs": [
    {
     "data": {
      "image/png": "[encoded data removed]",
      "text/plain": [
       "<Figure size 720x432 with 1 Axes>"
      ]
     },
     "metadata": {
      "needs_background": "light"
     },
     "output_type": "display_data"
    }
   ],
   "source": [
    "# Distribution of ratings\n",
    "plt.figure(figsize=(10, 6))\n",
    "sns.histplot(anime_df['rating'], bins=20, kde=True)\n",
    "plt.title('Distribution of Ratings')\n",
    "plt.xlabel('Rating')\n",
    "plt.ylabel('Frequency')\n",
    "plt.show()"
   ]
  },
  {
   "cell_type": "code",
   "execution_count": 13,
   "id": "a8faf255",
   "metadata": {},
   "outputs": [
    {
     "data": {
      "image/png": "[encoded data removed]",
      "text/plain": [
       "<Figure size 720x432 with 1 Axes>"
      ]
     },
     "metadata": {
      "needs_background": "light"
     },
     "output_type": "display_data"
    }
   ],
   "source": [
    "# Count plot of anime types\n",
    "plt.figure(figsize=(10, 6))\n",
    "sns.countplot(y=anime_df['type'])\n",
    "plt.title('Count of Anime Types')\n",
    "plt.xlabel('Count')\n",
    "plt.ylabel('Anime Type')\n",
    "plt.show()"
   ]
  },
  {
   "cell_type": "code",
   "execution_count": 14,
   "id": "1ecf2850",
   "metadata": {},
   "outputs": [],
   "source": [
    "# Count plot of genres (splitting and counting genres)\n",
    "from collections import Counter\n",
    "\n",
    "genres = anime_df['genre'].str.split(', ')\n",
    "genres = genres.dropna()\n",
    "genres_flat = [genre for sublist in genres for genre in sublist]\n",
    "genre_counts = Counter(genres_flat)"
   ]
  },
  {
   "cell_type": "code",
   "execution_count": 15,
   "id": "c50263b7",
   "metadata": {},
   "outputs": [
    {
     "data": {
      "image/png": "[encoded data removed]",
      "text/plain": [
       "<Figure size 864x576 with 1 Axes>"
      ]
     },
     "metadata": {
      "needs_background": "light"
     },
     "output_type": "display_data"
    }
   ],
   "source": [
    "plt.figure(figsize=(12, 8))\n",
    "sns.barplot(y=list(genre_counts.keys()), x=list(genre_counts.values()))\n",
    "plt.title('Count of Anime Genres')\n",
    "plt.xlabel('Count')\n",
    "plt.ylabel('Genre')\n",
    "plt.show()"
   ]
  },
  {
   "cell_type": "markdown",
   "id": "b019e186",
   "metadata": {},
   "source": [
    "# Step 2: Feature Extraction"
   ]
  },
  {
   "cell_type": "code",
   "execution_count": 16,
   "id": "ea4e41e1",
   "metadata": {},
   "outputs": [],
   "source": [
    "from sklearn.feature_extraction.text import TfidfVectorizer\n",
    "from sklearn.preprocessing import MinMaxScaler\n",
    "from sklearn.metrics.pairwise import cosine_similarity"
   ]
  },
  {
   "cell_type": "code",
   "execution_count": 17,
   "id": "c461bf3d",
   "metadata": {},
   "outputs": [],
   "source": [
    "# Fill missing genres with empty string for TF-IDF processing\n",
    "anime_df['genre'] = anime_df['genre'].fillna('')"
   ]
  },
  {
   "cell_type": "code",
   "execution_count": 18,
   "id": "548cb4c2",
   "metadata": {},
   "outputs": [],
   "source": [
    "# Convert genres to TF-IDF features\n",
    "tfidf = TfidfVectorizer(stop_words='english')\n",
    "tfidf_matrix = tfidf.fit_transform(anime_df['genre'])\n",
    "tfidf_df = pd.DataFrame(tfidf_matrix.toarray(), index=anime_df.index)"
   ]
  },
  {
   "cell_type": "code",
   "execution_count": 19,
   "id": "4d456a75",
   "metadata": {},
   "outputs": [],
   "source": [
    "# Normalize ratings\n",
    "scaler = MinMaxScaler()\n",
    "anime_df['rating'] = anime_df['rating'].fillna(anime_df['rating'].mean())\n",
    "anime_df['rating'] = scaler.fit_transform(anime_df[['rating']])"
   ]
  },
  {
   "cell_type": "code",
   "execution_count": 20,
   "id": "1bd20372",
   "metadata": {},
   "outputs": [],
   "source": [
    "# Combine features: TF-IDF for genres and normalized ratings\n",
    "features_df = pd.concat([tfidf_df, anime_df[['rating']]], axis=1)"
   ]
  },
  {
   "cell_type": "code",
   "execution_count": 21,
   "id": "0157fc50",
   "metadata": {},
   "outputs": [],
   "source": [
    "# Compute cosine similarity matrix\n",
    "cosine_sim = cosine_similarity(features_df, features_df)"
   ]
  },
  {
   "cell_type": "markdown",
   "id": "7bf8b8ac",
   "metadata": {},
   "source": [
    "# Step 3: Recommendation System"
   ]
  },
  {
   "cell_type": "code",
   "execution_count": 37,
   "id": "afe8a48a",
   "metadata": {},
   "outputs": [],
   "source": [
    "# Function to get recommendations\n",
    "def get_recommendations(name, num_recommendations=10, similarity_threshold=0.1):\n",
    "    if name not in anime_df['name'].values:\n",
    "        return []\n",
    "    \n",
    "    idx = anime_df[anime_df['name'] == name].index\n",
    "    if len(idx) == 0:\n",
    "        return []\n",
    "    \n",
    "    idx = idx[0]\n",
    "    \n",
    "    # Ensure index is within bounds\n",
    "    if idx >= cosine_sim.shape[0]:\n",
    "        print(f\"Index {idx} is out of bounds.\")\n",
    "        return []\n",
    "    \n",
    "    sim_scores = list(enumerate(cosine_sim[idx]))\n",
    "    sim_scores = sorted(sim_scores, key=lambda x: x[1], reverse=True)\n",
    "    sim_scores = [score for score in sim_scores if score[1] >= similarity_threshold]\n",
    "    sim_scores = sim_scores[1:num_recommendations + 1]\n",
    "    anime_indices = [i[0] for i in sim_scores]\n",
    "    \n",
    "    return anime_df['name'].iloc[anime_indices].tolist()\n"
   ]
  },
  {
   "cell_type": "code",
   "execution_count": 38,
   "id": "b75fe49e",
   "metadata": {},
   "outputs": [
    {
     "name": "stdout",
     "output_type": "stream",
     "text": [
      "Recommendations for 'Naruto' with default settings:\n",
      "['Naruto: Shippuuden', 'Boruto: Naruto the Movie - Naruto ga Hokage ni Natta Hi', 'Boruto: Naruto the Movie', 'Naruto x UT', 'Naruto: Shippuuden Movie 4 - The Lost Tower', 'Naruto: Shippuuden Movie 3 - Hi no Ishi wo Tsugu Mono', 'Naruto Shippuuden: Sunny Side Battle', 'Naruto Soyokazeden Movie: Naruto to Mashin to Mitsu no Onegai Dattebayo!!', 'Naruto: Shippuuden Movie 6 - Road to Ninja', 'Rekka no Honoo']\n",
      "\n",
      "Recommendations for 'Naruto' with a higher similarity threshold:\n",
      "['Naruto: Shippuuden', 'Boruto: Naruto the Movie - Naruto ga Hokage ni Natta Hi', 'Boruto: Naruto the Movie', 'Naruto x UT', 'Naruto: Shippuuden Movie 4 - The Lost Tower', 'Naruto: Shippuuden Movie 3 - Hi no Ishi wo Tsugu Mono', 'Naruto Shippuuden: Sunny Side Battle', 'Naruto Soyokazeden Movie: Naruto to Mashin to Mitsu no Onegai Dattebayo!!', 'Naruto: Shippuuden Movie 6 - Road to Ninja', 'Rekka no Honoo']\n",
      "\n",
      "Recommendations for 'Naruto' with fewer recommendations:\n",
      "['Naruto: Shippuuden', 'Boruto: Naruto the Movie - Naruto ga Hokage ni Natta Hi', 'Boruto: Naruto the Movie', 'Naruto x UT', 'Naruto: Shippuuden Movie 4 - The Lost Tower']\n"
     ]
    }
   ],
   "source": [
    " #Example usage with different thresholds\n",
    "print(\"Recommendations for 'Naruto' with default settings:\")\n",
    "print(get_recommendations('Naruto'))\n",
    "\n",
    "print(\"\\nRecommendations for 'Naruto' with a higher similarity threshold:\")\n",
    "print(get_recommendations('Naruto', similarity_threshold=0.2))\n",
    "\n",
    "print(\"\\nRecommendations for 'Naruto' with fewer recommendations:\")\n",
    "print(get_recommendations('Naruto', num_recommendations=5))"
   ]
  },
  {
   "cell_type": "markdown",
   "id": "b2bbb9a6",
   "metadata": {},
   "source": [
    "# Step 4: Evaluation"
   ]
  },
  {
   "cell_type": "code",
   "execution_count": 28,
   "id": "59c02099",
   "metadata": {},
   "outputs": [],
   "source": [
    "# Evaluation metrics functions\n",
    "def precision_at_k(recommended, relevant, k):\n",
    "    recommended_at_k = recommended[:k]\n",
    "    relevant_at_k = len(set(recommended_at_k) & set(relevant))\n",
    "    return relevant_at_k / k if k > 0 else 0\n",
    "\n",
    "def recall_at_k(recommended, relevant, k):\n",
    "    recommended_at_k = recommended[:k]\n",
    "    relevant_at_k = len(set(recommended_at_k) & set(relevant))\n",
    "    return relevant_at_k / len(relevant) if len(relevant) > 0 else 0\n",
    "\n",
    "def f1_score_at_k(precision, recall):\n",
    "    if precision + recall == 0:\n",
    "        return 0\n",
    "    return 2 * (precision * recall) / (precision + recall)\n"
   ]
  },
  {
   "cell_type": "code",
   "execution_count": 29,
   "id": "c16a7473",
   "metadata": {},
   "outputs": [],
   "source": [
    "# Split the dataset into training and testing sets\n",
    "train_df, test_df = train_test_split(anime_df, test_size=0.2, random_state=42)"
   ]
  },
  {
   "cell_type": "code",
   "execution_count": 34,
   "id": "673a3569",
   "metadata": {},
   "outputs": [
    {
     "name": "stdout",
     "output_type": "stream",
     "text": [
      "Index 12057 is out of bounds.\n",
      "Index 12052 is out of bounds.\n",
      "Index 12048 is out of bounds.\n",
      "Index 12209 is out of bounds.\n",
      "Index 12117 is out of bounds.\n",
      "Index 12225 is out of bounds.\n",
      "Index 12084 is out of bounds.\n",
      "Index 12060 is out of bounds.\n",
      "Index 12292 is out of bounds.\n",
      "Index 12083 is out of bounds.\n",
      "Index 12119 is out of bounds.\n",
      "Index 12172 is out of bounds.\n",
      "Index 12184 is out of bounds.\n",
      "Index 12103 is out of bounds.\n",
      "Index 12287 is out of bounds.\n",
      "Index 12207 is out of bounds.\n",
      "Index 12028 is out of bounds.\n",
      "Index 12180 is out of bounds.\n",
      "Index 12120 is out of bounds.\n",
      "Index 12132 is out of bounds.\n",
      "Index 12188 is out of bounds.\n",
      "Index 12088 is out of bounds.\n",
      "Index 12056 is out of bounds.\n",
      "Index 12077 is out of bounds.\n",
      "Index 12163 is out of bounds.\n",
      "Index 12243 is out of bounds.\n",
      "Index 12241 is out of bounds.\n",
      "Index 12189 is out of bounds.\n",
      "Index 12064 is out of bounds.\n",
      "Index 12118 is out of bounds.\n",
      "Index 12191 is out of bounds.\n",
      "Index 12247 is out of bounds.\n",
      "Index 12240 is out of bounds.\n",
      "Index 12187 is out of bounds.\n",
      "Index 12034 is out of bounds.\n",
      "Index 12193 is out of bounds.\n",
      "Index 12195 is out of bounds.\n",
      "Index 12022 is out of bounds.\n",
      "Index 12288 is out of bounds.\n",
      "Index 12075 is out of bounds.\n",
      "Index 12242 is out of bounds.\n",
      "Index 12156 is out of bounds.\n",
      "Index 12128 is out of bounds.\n",
      "Index 12234 is out of bounds.\n",
      "Index 12082 is out of bounds.\n",
      "Index 12212 is out of bounds.\n",
      "Index 12094 is out of bounds.\n",
      "Index 12230 is out of bounds.\n",
      "Index 12284 is out of bounds.\n",
      "Index 12129 is out of bounds.\n",
      "Index 12248 is out of bounds.\n",
      "Index 12226 is out of bounds.\n",
      "Index 12027 is out of bounds.\n",
      "Index 12061 is out of bounds.\n",
      "Index 12019 is out of bounds.\n",
      "Index 12203 is out of bounds.\n",
      "Average Precision at 10: 0.0008517887563884157\n",
      "Average Recall at 10: 0.008517887563884156\n",
      "Average F1 Score at 10: 0.0015487068297971194\n"
     ]
    }
   ],
   "source": [
    "# Evaluate the system\n",
    "k = 10  # Number of recommendations to evaluate\n",
    "\n",
    "precisions = []\n",
    "recalls = []\n",
    "f1_scores = []\n",
    "\n",
    "for _, row in test_df.iterrows():\n",
    "    name = row['name']\n",
    "    relevant = [name]\n",
    "    \n",
    "    recommended = get_recommendations(name, num_recommendations=k)\n",
    "    \n",
    "    if not recommended:\n",
    "        continue\n",
    "    \n",
    "    precision = precision_at_k(recommended, relevant, k)\n",
    "    recall = recall_at_k(recommended, relevant, k)\n",
    "    f1 = f1_score_at_k(precision, recall)\n",
    "    \n",
    "    precisions.append(precision)\n",
    "    recalls.append(recall)\n",
    "    f1_scores.append(f1)\n",
    "\n",
    "average_precision = np.mean(precisions)\n",
    "average_recall = np.mean(recalls)\n",
    "average_f1_score = np.mean(f1_scores)\n",
    "\n",
    "print(f'Average Precision at {k}: {average_precision}')\n",
    "print(f'Average Recall at {k}: {average_recall}')\n",
    "print(f'Average F1 Score at {k}: {average_f1_score}')"
   ]
  },
  {
   "cell_type": "markdown",
   "id": "54084a19",
   "metadata": {},
   "source": [
    "# Interview Questions:"
   ]
  },
  {
   "cell_type": "markdown",
   "id": "2374dcff",
   "metadata": {},
   "source": [
    "Q1. Can you explain the difference between user-based and item-based collaborative filtering?"
   ]
  },
  {
   "cell_type": "markdown",
   "id": "7080b414",
   "metadata": {},
   "source": [
    "User-Based Collaborative Filtering: Recommends items based on the preferences of similar users.\n",
    "\n",
    "Item-Based Collaborative Filtering: Recommends items based on the similarity between items.\n",
    "\n",
    "Both methods can be effective depending on the context and the nature of the data available. In practice, hybrid approaches that combine user-based and item-based filtering are often used to leverage the strengths of both methods."
   ]
  },
  {
   "cell_type": "markdown",
   "id": "ebaf41be",
   "metadata": {},
   "source": [
    "Q2. What is collaborative filtering, and how does it work?"
   ]
  },
  {
   "cell_type": "markdown",
   "id": "5a66b8c5",
   "metadata": {},
   "source": [
    "Collaborative filtering is a technique used in recommendation systems to suggest items to users based on the preferences and behaviors of other users. It relies on the idea that users who have agreed in the past will agree in the future. Collaborative filtering can be broadly classified into two main types: user-based and item-based.\n",
    "\n",
    "How Collaborative Filtering Works:\n",
    "\n",
    "1. Data Collection\n",
    "2. Similarity Computation\n",
    "3. Recommendation Generation"
   ]
  },
  {
   "cell_type": "code",
   "execution_count": null,
   "id": "84256621",
   "metadata": {},
   "outputs": [],
   "source": []
  }
 ],
 "metadata": {
  "kernelspec": {
   "display_name": "Python 3",
   "language": "python",
   "name": "python3"
  },
  "language_info": {
   "codemirror_mode": {
    "name": "ipython",
    "version": 3
   },
   "file_extension": ".py",
   "mimetype": "text/x-python",
   "name": "python",
   "nbconvert_exporter": "python",
   "pygments_lexer": "ipython3",
   "version": "3.8.8"
  }
 },
 "nbformat": 4,
 "nbformat_minor": 5
}
