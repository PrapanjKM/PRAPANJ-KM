{
  "nbformat": 4,
  "nbformat_minor": 0,
  "metadata": {
    "colab": {
      "provenance": []
    },
    "kernelspec": {
      "name": "python3",
      "display_name": "Python 3"
    },
    "language_info": {
      "name": "python"
    }
  },
  "cells": [
    {
      "cell_type": "markdown",
      "source": [
        "Excercise 1\n",
        "\n",
        "Prime Numbers"
      ],
      "metadata": {
        "id": "oN_84anl4urV"
      }
    },
    {
      "cell_type": "code",
      "source": [
        "\n",
        "number = int(input(\"Enter a number: \"))\n",
        "\n",
        "\n",
        "is_prime = True\n",
        "\n",
        "if number <= 1:\n",
        "    is_prime = False\n",
        "else:\n",
        "    for i in range(2, number):\n",
        "        if number % i == 0:\n",
        "            is_prime = False\n",
        "            break\n",
        "\n",
        "if is_prime:\n",
        "    print(f\"{number} is a prime number.\")\n",
        "else:\n",
        "    print(f\"{number} is not a prime number.\")\n"
      ],
      "metadata": {
        "colab": {
          "base_uri": "https://localhost:8080/"
        },
        "id": "Nc1Yevbj46Y4",
        "outputId": "a43ee48c-a30f-433f-b231-67aee3f91757"
      },
      "execution_count": null,
      "outputs": [
        {
          "output_type": "stream",
          "name": "stdout",
          "text": [
            "Enter a number: 5\n",
            "5 is a prime number.\n"
          ]
        }
      ]
    },
    {
      "cell_type": "markdown",
      "source": [
        "EXCERCISE 2\n",
        "\n",
        "Product of Random Numbers"
      ],
      "metadata": {
        "id": "m1CdCSi95JhR"
      }
    },
    {
      "cell_type": "code",
      "source": [
        "import random\n",
        "num1 = random.randint(1, 10)\n",
        "num2 = random.randint(1, 10)\n",
        "correct_product = num1 * num2\n",
        "\n",
        "user_answer = int(input(f\"What is the product of {num1} and {num2}? \"))\n",
        "\n",
        "# Check if the user's answer is correct\n",
        "if user_answer == correct_product:\n",
        "    print(\"Correct! Well done.\")\n",
        "else:\n",
        "    print(f\"Incorrect. The correct answer is {correct_product}.\")\n",
        "\n"
      ],
      "metadata": {
        "colab": {
          "base_uri": "https://localhost:8080/"
        },
        "id": "D8qXaSNq5GJP",
        "outputId": "98c08879-c220-487b-bccd-c39a9e8687da"
      },
      "execution_count": null,
      "outputs": [
        {
          "output_type": "stream",
          "name": "stdout",
          "text": [
            "What is the product of 10 and 7? 70\n",
            "Correct! Well done.\n"
          ]
        }
      ]
    },
    {
      "cell_type": "markdown",
      "source": [
        "EXCERCISE 3\n",
        "\n",
        "Square of even or odd numbers.\n",
        "Here i am choosing even numbers."
      ],
      "metadata": {
        "id": "IcnfeEQy-9eM"
      }
    },
    {
      "cell_type": "code",
      "source": [
        "# This program prints the squares of all even numbers within the range of 100 to 200.\n",
        "for i in range(100,201):\n",
        "  if i % 2 == 0:\n",
        "    print(f\"the square of the {i} is {i**2}\")"
      ],
      "metadata": {
        "colab": {
          "base_uri": "https://localhost:8080/"
        },
        "id": "MzrqPkzG8KYH",
        "outputId": "7353c4ca-de52-4a3a-da9d-47246f62c432"
      },
      "execution_count": null,
      "outputs": [
        {
          "output_type": "stream",
          "name": "stdout",
          "text": [
            "the square of the 100 is 10000\n",
            "the square of the 102 is 10404\n",
            "the square of the 104 is 10816\n",
            "the square of the 106 is 11236\n",
            "the square of the 108 is 11664\n",
            "the square of the 110 is 12100\n",
            "the square of the 112 is 12544\n",
            "the square of the 114 is 12996\n",
            "the square of the 116 is 13456\n",
            "the square of the 118 is 13924\n",
            "the square of the 120 is 14400\n",
            "the square of the 122 is 14884\n",
            "the square of the 124 is 15376\n",
            "the square of the 126 is 15876\n",
            "the square of the 128 is 16384\n",
            "the square of the 130 is 16900\n",
            "the square of the 132 is 17424\n",
            "the square of the 134 is 17956\n",
            "the square of the 136 is 18496\n",
            "the square of the 138 is 19044\n",
            "the square of the 140 is 19600\n",
            "the square of the 142 is 20164\n",
            "the square of the 144 is 20736\n",
            "the square of the 146 is 21316\n",
            "the square of the 148 is 21904\n",
            "the square of the 150 is 22500\n",
            "the square of the 152 is 23104\n",
            "the square of the 154 is 23716\n",
            "the square of the 156 is 24336\n",
            "the square of the 158 is 24964\n",
            "the square of the 160 is 25600\n",
            "the square of the 162 is 26244\n",
            "the square of the 164 is 26896\n",
            "the square of the 166 is 27556\n",
            "the square of the 168 is 28224\n",
            "the square of the 170 is 28900\n",
            "the square of the 172 is 29584\n",
            "the square of the 174 is 30276\n",
            "the square of the 176 is 30976\n",
            "the square of the 178 is 31684\n",
            "the square of the 180 is 32400\n",
            "the square of the 182 is 33124\n",
            "the square of the 184 is 33856\n",
            "the square of the 186 is 34596\n",
            "the square of the 188 is 35344\n",
            "the square of the 190 is 36100\n",
            "the square of the 192 is 36864\n",
            "the square of the 194 is 37636\n",
            "the square of the 196 is 38416\n",
            "the square of the 198 is 39204\n",
            "the square of the 200 is 40000\n"
          ]
        }
      ]
    },
    {
      "cell_type": "markdown",
      "source": [
        "Excersice 4\n",
        "\n",
        "WORD COUNTER"
      ],
      "metadata": {
        "id": "eCczyHfzbUpY"
      }
    },
    {
      "cell_type": "code",
      "source": [
        "from collections import Counter\n",
        "import re\n",
        "\n",
        "text = \"This is a sample text. This text will be used to demonstrate the word counter.\"\n",
        "text = re.sub(r'[^\\w\\s]', '', text.lower())\n",
        "words = text.split()\n",
        "word_counts = Counter(words)\n",
        "for word, count in word_counts.items():\n",
        "    print(f\"'{word}': {count}\")\n"
      ],
      "metadata": {
        "colab": {
          "base_uri": "https://localhost:8080/"
        },
        "id": "a8gtrSu7TET5",
        "outputId": "16f2158e-76b1-494c-e70b-de418a986538"
      },
      "execution_count": null,
      "outputs": [
        {
          "output_type": "stream",
          "name": "stdout",
          "text": [
            "'this': 2\n",
            "'is': 1\n",
            "'a': 1\n",
            "'sample': 1\n",
            "'text': 2\n",
            "'will': 1\n",
            "'be': 1\n",
            "'used': 1\n",
            "'to': 1\n",
            "'demonstrate': 1\n",
            "'the': 1\n",
            "'word': 1\n",
            "'counter': 1\n"
          ]
        }
      ]
    },
    {
      "cell_type": "markdown",
      "source": [
        "EXCERCISE 5\n",
        "\n",
        "Check for Palindrome"
      ],
      "metadata": {
        "id": "iHJho7SvbxGV"
      }
    },
    {
      "cell_type": "code",
      "source": [
        "import re\n",
        "\n",
        "def is_palindrome(s):\n",
        "    cleaned_s = re.sub(r'[^A-Za-z0-9]', '', s.lower())\n",
        "    return cleaned_s == cleaned_s[::-1]\n",
        "\n",
        "# Test cases\n",
        "print(is_palindrome(\"A man, a plan, a canal, Panama\"))  # Should return True\n",
        "print(is_palindrome(\"racecar\"))  # Should return True\n",
        "print(is_palindrome(\"hello\"))    # Should return False\n",
        "print(is_palindrome(\"No lemon, no melon\"))  # Should return True\n"
      ],
      "metadata": {
        "colab": {
          "base_uri": "https://localhost:8080/"
        },
        "id": "YJnXUNSmbo5m",
        "outputId": "fc8b54c1-00bb-4c44-b2eb-7cbb2f16192f"
      },
      "execution_count": null,
      "outputs": [
        {
          "output_type": "stream",
          "name": "stdout",
          "text": [
            "True\n",
            "True\n",
            "False\n",
            "True\n"
          ]
        }
      ]
    },
    {
      "cell_type": "code",
      "source": [],
      "metadata": {
        "id": "MqFAVUlqc-YY"
      },
      "execution_count": null,
      "outputs": []
    }
  ]
}