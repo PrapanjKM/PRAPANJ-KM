{
 "cells": [
  {
   "cell_type": "markdown",
   "id": "645b5db9",
   "metadata": {},
   "source": [
    "# 1 . Data Exploration and Preprocessing"
   ]
  },
  {
   "cell_type": "code",
   "execution_count": 5,
   "id": "f60f05e8",
   "metadata": {},
   "outputs": [],
   "source": [
    "import pandas as pd"
   ]
  },
  {
   "cell_type": "code",
   "execution_count": 3,
   "id": "6329e694",
   "metadata": {},
   "outputs": [],
   "source": [
    "# Load the dataset\n",
    "df = pd.read_csv(r\"D:\\Assignments Data Science ExcelR\\blogs.csv\")"
   ]
  },
  {
   "cell_type": "code",
   "execution_count": 4,
   "id": "04953093",
   "metadata": {},
   "outputs": [
    {
     "data": {
      "text/html": [
       "<div>\n",
       "<style scoped>\n",
       "    .dataframe tbody tr th:only-of-type {\n",
       "        vertical-align: middle;\n",
       "    }\n",
       "\n",
       "    .dataframe tbody tr th {\n",
       "        vertical-align: top;\n",
       "    }\n",
       "\n",
       "    .dataframe thead th {\n",
       "        text-align: right;\n",
       "    }\n",
       "</style>\n",
       "<table border=\"1\" class=\"dataframe\">\n",
       "  <thead>\n",
       "    <tr style=\"text-align: right;\">\n",
       "      <th></th>\n",
       "      <th>Data</th>\n",
       "      <th>Labels</th>\n",
       "    </tr>\n",
       "  </thead>\n",
       "  <tbody>\n",
       "    <tr>\n",
       "      <th>0</th>\n",
       "      <td>Path: cantaloupe.srv.cs.cmu.edu!magnesium.club...</td>\n",
       "      <td>alt.atheism</td>\n",
       "    </tr>\n",
       "    <tr>\n",
       "      <th>1</th>\n",
       "      <td>Newsgroups: alt.atheism\\nPath: cantaloupe.srv....</td>\n",
       "      <td>alt.atheism</td>\n",
       "    </tr>\n",
       "    <tr>\n",
       "      <th>2</th>\n",
       "      <td>Path: cantaloupe.srv.cs.cmu.edu!das-news.harva...</td>\n",
       "      <td>alt.atheism</td>\n",
       "    </tr>\n",
       "    <tr>\n",
       "      <th>3</th>\n",
       "      <td>Path: cantaloupe.srv.cs.cmu.edu!magnesium.club...</td>\n",
       "      <td>alt.atheism</td>\n",
       "    </tr>\n",
       "    <tr>\n",
       "      <th>4</th>\n",
       "      <td>Xref: cantaloupe.srv.cs.cmu.edu alt.atheism:53...</td>\n",
       "      <td>alt.atheism</td>\n",
       "    </tr>\n",
       "  </tbody>\n",
       "</table>\n",
       "</div>"
      ],
      "text/plain": [
       "                                                Data       Labels\n",
       "0  Path: cantaloupe.srv.cs.cmu.edu!magnesium.club...  alt.atheism\n",
       "1  Newsgroups: alt.atheism\\nPath: cantaloupe.srv....  alt.atheism\n",
       "2  Path: cantaloupe.srv.cs.cmu.edu!das-news.harva...  alt.atheism\n",
       "3  Path: cantaloupe.srv.cs.cmu.edu!magnesium.club...  alt.atheism\n",
       "4  Xref: cantaloupe.srv.cs.cmu.edu alt.atheism:53...  alt.atheism"
      ]
     },
     "execution_count": 4,
     "metadata": {},
     "output_type": "execute_result"
    }
   ],
   "source": [
    "# Display the first few rows of the dataframe\n",
    "df.head()"
   ]
  },
  {
   "cell_type": "code",
   "execution_count": 6,
   "id": "32dd1708",
   "metadata": {},
   "outputs": [
    {
     "name": "stdout",
     "output_type": "stream",
     "text": [
      "<class 'pandas.core.frame.DataFrame'>\n",
      "RangeIndex: 2000 entries, 0 to 1999\n",
      "Data columns (total 2 columns):\n",
      " #   Column  Non-Null Count  Dtype \n",
      "---  ------  --------------  ----- \n",
      " 0   Data    2000 non-null   object\n",
      " 1   Labels  2000 non-null   object\n",
      "dtypes: object(2)\n",
      "memory usage: 31.4+ KB\n"
     ]
    }
   ],
   "source": [
    "df.info()"
   ]
  },
  {
   "cell_type": "code",
   "execution_count": 7,
   "id": "18215227",
   "metadata": {},
   "outputs": [
    {
     "data": {
      "text/html": [
       "<div>\n",
       "<style scoped>\n",
       "    .dataframe tbody tr th:only-of-type {\n",
       "        vertical-align: middle;\n",
       "    }\n",
       "\n",
       "    .dataframe tbody tr th {\n",
       "        vertical-align: top;\n",
       "    }\n",
       "\n",
       "    .dataframe thead th {\n",
       "        text-align: right;\n",
       "    }\n",
       "</style>\n",
       "<table border=\"1\" class=\"dataframe\">\n",
       "  <thead>\n",
       "    <tr style=\"text-align: right;\">\n",
       "      <th></th>\n",
       "      <th>Data</th>\n",
       "      <th>Labels</th>\n",
       "    </tr>\n",
       "  </thead>\n",
       "  <tbody>\n",
       "    <tr>\n",
       "      <th>count</th>\n",
       "      <td>2000</td>\n",
       "      <td>2000</td>\n",
       "    </tr>\n",
       "    <tr>\n",
       "      <th>unique</th>\n",
       "      <td>2000</td>\n",
       "      <td>20</td>\n",
       "    </tr>\n",
       "    <tr>\n",
       "      <th>top</th>\n",
       "      <td>Newsgroups: sci.crypt\\nPath: cantaloupe.srv.cs...</td>\n",
       "      <td>sci.space</td>\n",
       "    </tr>\n",
       "    <tr>\n",
       "      <th>freq</th>\n",
       "      <td>1</td>\n",
       "      <td>100</td>\n",
       "    </tr>\n",
       "  </tbody>\n",
       "</table>\n",
       "</div>"
      ],
      "text/plain": [
       "                                                     Data     Labels\n",
       "count                                                2000       2000\n",
       "unique                                               2000         20\n",
       "top     Newsgroups: sci.crypt\\nPath: cantaloupe.srv.cs...  sci.space\n",
       "freq                                                    1        100"
      ]
     },
     "execution_count": 7,
     "metadata": {},
     "output_type": "execute_result"
    }
   ],
   "source": [
    "df.describe()"
   ]
  },
  {
   "cell_type": "code",
   "execution_count": 8,
   "id": "17b08908",
   "metadata": {},
   "outputs": [
    {
     "data": {
      "text/plain": [
       "Data      0\n",
       "Labels    0\n",
       "dtype: int64"
      ]
     },
     "execution_count": 8,
     "metadata": {},
     "output_type": "execute_result"
    }
   ],
   "source": [
    "df.isnull().sum()"
   ]
  },
  {
   "cell_type": "code",
   "execution_count": 9,
   "id": "ce647ae4",
   "metadata": {},
   "outputs": [
    {
     "data": {
      "text/plain": [
       "sci.space                   100\n",
       "sci.electronics             100\n",
       "talk.religion.misc          100\n",
       "talk.politics.misc          100\n",
       "soc.religion.christian      100\n",
       "comp.sys.mac.hardware       100\n",
       "talk.politics.guns          100\n",
       "comp.sys.ibm.pc.hardware    100\n",
       "rec.autos                   100\n",
       "sci.crypt                   100\n",
       "rec.sport.baseball          100\n",
       "misc.forsale                100\n",
       "sci.med                     100\n",
       "comp.graphics               100\n",
       "comp.os.ms-windows.misc     100\n",
       "rec.motorcycles             100\n",
       "comp.windows.x              100\n",
       "rec.sport.hockey            100\n",
       "alt.atheism                 100\n",
       "talk.politics.mideast       100\n",
       "Name: Labels, dtype: int64"
      ]
     },
     "execution_count": 9,
     "metadata": {},
     "output_type": "execute_result"
    }
   ],
   "source": [
    "df['Labels'].value_counts()"
   ]
  },
  {
   "cell_type": "markdown",
   "id": "40edd440",
   "metadata": {},
   "source": [
    "Data Preprocessing"
   ]
  },
  {
   "cell_type": "code",
   "execution_count": 10,
   "id": "6c5cd489",
   "metadata": {},
   "outputs": [],
   "source": [
    "import string\n",
    "import nltk\n",
    "from nltk.corpus import stopwords\n",
    "from sklearn.feature_extraction.text import TfidfVectorizer"
   ]
  },
  {
   "cell_type": "code",
   "execution_count": 11,
   "id": "2bba895a",
   "metadata": {},
   "outputs": [
    {
     "name": "stderr",
     "output_type": "stream",
     "text": [
      "[nltk_data] Downloading package stopwords to C:\\Users\\PRAPANJ K\n",
      "[nltk_data]     M\\AppData\\Roaming\\nltk_data...\n",
      "[nltk_data]   Package stopwords is already up-to-date!\n"
     ]
    },
    {
     "data": {
      "text/plain": [
       "True"
      ]
     },
     "execution_count": 11,
     "metadata": {},
     "output_type": "execute_result"
    }
   ],
   "source": [
    "# Download stopwords from NLTK\n",
    "nltk.download('stopwords')"
   ]
  },
  {
   "cell_type": "code",
   "execution_count": 12,
   "id": "83515b5f",
   "metadata": {},
   "outputs": [],
   "source": [
    "# Define a function to clean the text\n",
    "def preprocess_text(text):\n",
    "    # Convert text to lowercase\n",
    "    text = text.lower()\n",
    "    # Remove punctuation\n",
    "    text = text.translate(str.maketrans('', '', string.punctuation))\n",
    "    # Remove stopwords\n",
    "    stop_words = set(stopwords.words('english'))\n",
    "    text = ' '.join(word for word in text.split() if word not in stop_words)\n",
    "    return text"
   ]
  },
  {
   "cell_type": "code",
   "execution_count": 13,
   "id": "cd8633bf",
   "metadata": {},
   "outputs": [],
   "source": [
    "# Apply the preprocessing function to the 'Data' column\n",
    "df['Data'] = df['Data'].apply(preprocess_text)"
   ]
  },
  {
   "cell_type": "code",
   "execution_count": 14,
   "id": "58507f7b",
   "metadata": {},
   "outputs": [
    {
     "name": "stdout",
     "output_type": "stream",
     "text": [
      "                                                Data       Labels\n",
      "0  path cantaloupesrvcscmuedumagnesiumclubcccmued...  alt.atheism\n",
      "1  newsgroups altatheism path cantaloupesrvcscmue...  alt.atheism\n",
      "2  path cantaloupesrvcscmuedudasnewsharvardedunoc...  alt.atheism\n",
      "3  path cantaloupesrvcscmuedumagnesiumclubcccmued...  alt.atheism\n",
      "4  xref cantaloupesrvcscmuedu altatheism53485 tal...  alt.atheism\n"
     ]
    }
   ],
   "source": [
    "# Display the first few rows of the preprocessed data\n",
    "print(df.head())"
   ]
  },
  {
   "cell_type": "markdown",
   "id": "5b975e86",
   "metadata": {},
   "source": [
    "Feature Extraction using TF-IDF"
   ]
  },
  {
   "cell_type": "code",
   "execution_count": 15,
   "id": "3d38237c",
   "metadata": {},
   "outputs": [],
   "source": [
    "# Define the TF-IDF vectorizer\n",
    "tfidf = TfidfVectorizer()"
   ]
  },
  {
   "cell_type": "code",
   "execution_count": 16,
   "id": "13202f9b",
   "metadata": {},
   "outputs": [],
   "source": [
    "# Fit and transform the 'Data' column\n",
    "X = tfidf.fit_transform(df['Data'])\n"
   ]
  },
  {
   "cell_type": "code",
   "execution_count": 17,
   "id": "733e2d36",
   "metadata": {},
   "outputs": [
    {
     "name": "stdout",
     "output_type": "stream",
     "text": [
      "(2000, 56435)\n"
     ]
    }
   ],
   "source": [
    "# Display the shape of the TF-IDF matrix\n",
    "print(X.shape)\n"
   ]
  },
  {
   "cell_type": "code",
   "execution_count": 18,
   "id": "c10f4cde",
   "metadata": {},
   "outputs": [],
   "source": [
    "# Get the labels\n",
    "y = df['Labels']"
   ]
  },
  {
   "cell_type": "markdown",
   "id": "d4a81c54",
   "metadata": {},
   "source": [
    "# 2. Naive Bayes Model for Text Classification"
   ]
  },
  {
   "cell_type": "markdown",
   "id": "662b14ec",
   "metadata": {},
   "source": [
    "Split the Data into Training and Test Sets\n"
   ]
  },
  {
   "cell_type": "code",
   "execution_count": 19,
   "id": "fe56a91d",
   "metadata": {},
   "outputs": [],
   "source": [
    "from sklearn.model_selection import train_test_split"
   ]
  },
  {
   "cell_type": "code",
   "execution_count": 20,
   "id": "4eb214b2",
   "metadata": {},
   "outputs": [],
   "source": [
    "# Split the data into training and test sets\n",
    "X_train, X_test, y_train, y_test = train_test_split(X, y, test_size=0.2, random_state=42)"
   ]
  },
  {
   "cell_type": "code",
   "execution_count": 21,
   "id": "11f0b413",
   "metadata": {},
   "outputs": [
    {
     "name": "stdout",
     "output_type": "stream",
     "text": [
      "Training set: (1600, 56435), (1600,)\n",
      "Test set: (400, 56435), (400,)\n"
     ]
    }
   ],
   "source": [
    "# Display the shape of the training and test sets\n",
    "print(f\"Training set: {X_train.shape}, {y_train.shape}\")\n",
    "print(f\"Test set: {X_test.shape}, {y_test.shape}\")"
   ]
  },
  {
   "cell_type": "markdown",
   "id": "4f822e38",
   "metadata": {},
   "source": [
    "Implement a Naive Bayes Classifier"
   ]
  },
  {
   "cell_type": "code",
   "execution_count": 22,
   "id": "79c05606",
   "metadata": {},
   "outputs": [],
   "source": [
    "from sklearn.naive_bayes import MultinomialNB"
   ]
  },
  {
   "cell_type": "code",
   "execution_count": 23,
   "id": "5129492d",
   "metadata": {},
   "outputs": [],
   "source": [
    "# Instantiate the Naive Bayes classifier\n",
    "nb_classifier = MultinomialNB()"
   ]
  },
  {
   "cell_type": "code",
   "execution_count": 24,
   "id": "5bc819d8",
   "metadata": {},
   "outputs": [
    {
     "data": {
      "text/html": [
       "<style>#sk-container-id-1 {color: black;}#sk-container-id-1 pre{padding: 0;}#sk-container-id-1 div.sk-toggleable {background-color: white;}#sk-container-id-1 label.sk-toggleable__label {cursor: pointer;display: block;width: 100%;margin-bottom: 0;padding: 0.3em;box-sizing: border-box;text-align: center;}#sk-container-id-1 label.sk-toggleable__label-arrow:before {content: \"▸\";float: left;margin-right: 0.25em;color: #696969;}#sk-container-id-1 label.sk-toggleable__label-arrow:hover:before {color: black;}#sk-container-id-1 div.sk-estimator:hover label.sk-toggleable__label-arrow:before {color: black;}#sk-container-id-1 div.sk-toggleable__content {max-height: 0;max-width: 0;overflow: hidden;text-align: left;background-color: #f0f8ff;}#sk-container-id-1 div.sk-toggleable__content pre {margin: 0.2em;color: black;border-radius: 0.25em;background-color: #f0f8ff;}#sk-container-id-1 input.sk-toggleable__control:checked~div.sk-toggleable__content {max-height: 200px;max-width: 100%;overflow: auto;}#sk-container-id-1 input.sk-toggleable__control:checked~label.sk-toggleable__label-arrow:before {content: \"▾\";}#sk-container-id-1 div.sk-estimator input.sk-toggleable__control:checked~label.sk-toggleable__label {background-color: #d4ebff;}#sk-container-id-1 div.sk-label input.sk-toggleable__control:checked~label.sk-toggleable__label {background-color: #d4ebff;}#sk-container-id-1 input.sk-hidden--visually {border: 0;clip: rect(1px 1px 1px 1px);clip: rect(1px, 1px, 1px, 1px);height: 1px;margin: -1px;overflow: hidden;padding: 0;position: absolute;width: 1px;}#sk-container-id-1 div.sk-estimator {font-family: monospace;background-color: #f0f8ff;border: 1px dotted black;border-radius: 0.25em;box-sizing: border-box;margin-bottom: 0.5em;}#sk-container-id-1 div.sk-estimator:hover {background-color: #d4ebff;}#sk-container-id-1 div.sk-parallel-item::after {content: \"\";width: 100%;border-bottom: 1px solid gray;flex-grow: 1;}#sk-container-id-1 div.sk-label:hover label.sk-toggleable__label {background-color: #d4ebff;}#sk-container-id-1 div.sk-serial::before {content: \"\";position: absolute;border-left: 1px solid gray;box-sizing: border-box;top: 0;bottom: 0;left: 50%;z-index: 0;}#sk-container-id-1 div.sk-serial {display: flex;flex-direction: column;align-items: center;background-color: white;padding-right: 0.2em;padding-left: 0.2em;position: relative;}#sk-container-id-1 div.sk-item {position: relative;z-index: 1;}#sk-container-id-1 div.sk-parallel {display: flex;align-items: stretch;justify-content: center;background-color: white;position: relative;}#sk-container-id-1 div.sk-item::before, #sk-container-id-1 div.sk-parallel-item::before {content: \"\";position: absolute;border-left: 1px solid gray;box-sizing: border-box;top: 0;bottom: 0;left: 50%;z-index: -1;}#sk-container-id-1 div.sk-parallel-item {display: flex;flex-direction: column;z-index: 1;position: relative;background-color: white;}#sk-container-id-1 div.sk-parallel-item:first-child::after {align-self: flex-end;width: 50%;}#sk-container-id-1 div.sk-parallel-item:last-child::after {align-self: flex-start;width: 50%;}#sk-container-id-1 div.sk-parallel-item:only-child::after {width: 0;}#sk-container-id-1 div.sk-dashed-wrapped {border: 1px dashed gray;margin: 0 0.4em 0.5em 0.4em;box-sizing: border-box;padding-bottom: 0.4em;background-color: white;}#sk-container-id-1 div.sk-label label {font-family: monospace;font-weight: bold;display: inline-block;line-height: 1.2em;}#sk-container-id-1 div.sk-label-container {text-align: center;}#sk-container-id-1 div.sk-container {/* jupyter's `normalize.less` sets `[hidden] { display: none; }` but bootstrap.min.css set `[hidden] { display: none !important; }` so we also need the `!important` here to be able to override the default hidden behavior on the sphinx rendered scikit-learn.org. See: https://github.com/scikit-learn/scikit-learn/issues/21755 */display: inline-block !important;position: relative;}#sk-container-id-1 div.sk-text-repr-fallback {display: none;}</style><div id=\"sk-container-id-1\" class=\"sk-top-container\"><div class=\"sk-text-repr-fallback\"><pre>MultinomialNB()</pre><b>In a Jupyter environment, please rerun this cell to show the HTML representation or trust the notebook. <br />On GitHub, the HTML representation is unable to render, please try loading this page with nbviewer.org.</b></div><div class=\"sk-container\" hidden><div class=\"sk-item\"><div class=\"sk-estimator sk-toggleable\"><input class=\"sk-toggleable__control sk-hidden--visually\" id=\"sk-estimator-id-1\" type=\"checkbox\" checked><label for=\"sk-estimator-id-1\" class=\"sk-toggleable__label sk-toggleable__label-arrow\">MultinomialNB</label><div class=\"sk-toggleable__content\"><pre>MultinomialNB()</pre></div></div></div></div></div>"
      ],
      "text/plain": [
       "MultinomialNB()"
      ]
     },
     "execution_count": 24,
     "metadata": {},
     "output_type": "execute_result"
    }
   ],
   "source": [
    "# Train the model on the training set\n",
    "nb_classifier.fit(X_train, y_train)"
   ]
  },
  {
   "cell_type": "code",
   "execution_count": 25,
   "id": "b7070a42",
   "metadata": {},
   "outputs": [],
   "source": [
    "# Make predictions on the test set\n",
    "y_pred = nb_classifier.predict(X_test)"
   ]
  },
  {
   "cell_type": "markdown",
   "id": "4923104c",
   "metadata": {},
   "source": [
    "Evaluate the Model"
   ]
  },
  {
   "cell_type": "code",
   "execution_count": 26,
   "id": "3d2cc430",
   "metadata": {},
   "outputs": [],
   "source": [
    "from sklearn.metrics import accuracy_score, classification_report"
   ]
  },
  {
   "cell_type": "code",
   "execution_count": 27,
   "id": "0a942e2a",
   "metadata": {},
   "outputs": [
    {
     "name": "stdout",
     "output_type": "stream",
     "text": [
      "Accuracy: 0.82\n"
     ]
    }
   ],
   "source": [
    "# Calculate accuracy\n",
    "accuracy = accuracy_score(y_test, y_pred)\n",
    "print(f\"Accuracy: {accuracy}\")"
   ]
  },
  {
   "cell_type": "code",
   "execution_count": 28,
   "id": "03178b5d",
   "metadata": {},
   "outputs": [
    {
     "name": "stdout",
     "output_type": "stream",
     "text": [
      "Classification Report:\n",
      "                          precision    recall  f1-score   support\n",
      "\n",
      "             alt.atheism       0.52      0.89      0.65        18\n",
      "           comp.graphics       0.62      0.83      0.71        18\n",
      " comp.os.ms-windows.misc       0.95      0.86      0.90        22\n",
      "comp.sys.ibm.pc.hardware       0.95      0.76      0.84        25\n",
      "   comp.sys.mac.hardware       0.87      0.95      0.91        21\n",
      "          comp.windows.x       1.00      0.80      0.89        25\n",
      "            misc.forsale       0.92      0.61      0.73        18\n",
      "               rec.autos       0.89      0.89      0.89        18\n",
      "         rec.motorcycles       0.88      0.88      0.88        16\n",
      "      rec.sport.baseball       0.80      0.89      0.84        18\n",
      "        rec.sport.hockey       0.83      1.00      0.91        15\n",
      "               sci.crypt       0.82      0.95      0.88        19\n",
      "         sci.electronics       0.68      0.81      0.74        16\n",
      "                 sci.med       0.94      0.88      0.91        17\n",
      "               sci.space       1.00      0.86      0.92        21\n",
      "  soc.religion.christian       0.85      0.96      0.90        23\n",
      "      talk.politics.guns       0.95      0.75      0.84        28\n",
      "   talk.politics.mideast       0.95      0.95      0.95        20\n",
      "      talk.politics.misc       0.57      0.89      0.70        18\n",
      "      talk.religion.misc       0.71      0.21      0.32        24\n",
      "\n",
      "                accuracy                           0.82       400\n",
      "               macro avg       0.84      0.83      0.82       400\n",
      "            weighted avg       0.84      0.82      0.81       400\n",
      "\n"
     ]
    }
   ],
   "source": [
    "# Display the classification report\n",
    "print(\"Classification Report:\")\n",
    "print(classification_report(y_test, y_pred))"
   ]
  },
  {
   "cell_type": "markdown",
   "id": "84fb70aa",
   "metadata": {},
   "source": [
    "# 3. Sentiment Analysis"
   ]
  },
  {
   "cell_type": "code",
   "execution_count": 29,
   "id": "80727c2b",
   "metadata": {},
   "outputs": [],
   "source": [
    "#Install Necessary Libraries"
   ]
  },
  {
   "cell_type": "code",
   "execution_count": 30,
   "id": "5127c139",
   "metadata": {},
   "outputs": [
    {
     "name": "stdout",
     "output_type": "stream",
     "text": [
      "Requirement already satisfied: nltk in c:\\users\\prapanj k m\\anaconda3\\lib\\site-packages (3.6.1)\n",
      "Requirement already satisfied: joblib in c:\\users\\prapanj k m\\anaconda3\\lib\\site-packages (from nltk) (1.4.2)\n",
      "Requirement already satisfied: regex in c:\\users\\prapanj k m\\anaconda3\\lib\\site-packages (from nltk) (2021.4.4)\n",
      "Requirement already satisfied: tqdm in c:\\users\\prapanj k m\\anaconda3\\lib\\site-packages (from nltk) (4.59.0)\n",
      "Requirement already satisfied: click in c:\\users\\prapanj k m\\anaconda3\\lib\\site-packages (from nltk) (7.1.2)\n"
     ]
    }
   ],
   "source": [
    "!pip install nltk"
   ]
  },
  {
   "cell_type": "code",
   "execution_count": 31,
   "id": "36f8e857",
   "metadata": {},
   "outputs": [
    {
     "name": "stdout",
     "output_type": "stream",
     "text": [
      "Collecting vaderSentiment\n",
      "  Downloading vaderSentiment-3.3.2-py2.py3-none-any.whl (125 kB)\n",
      "Requirement already satisfied: requests in c:\\users\\prapanj k m\\anaconda3\\lib\\site-packages (from vaderSentiment) (2.25.1)\n",
      "Requirement already satisfied: urllib3<1.27,>=1.21.1 in c:\\users\\prapanj k m\\anaconda3\\lib\\site-packages (from requests->vaderSentiment) (1.26.4)\n",
      "Requirement already satisfied: chardet<5,>=3.0.2 in c:\\users\\prapanj k m\\anaconda3\\lib\\site-packages (from requests->vaderSentiment) (4.0.0)\n",
      "Requirement already satisfied: idna<3,>=2.5 in c:\\users\\prapanj k m\\anaconda3\\lib\\site-packages (from requests->vaderSentiment) (2.10)\n",
      "Requirement already satisfied: certifi>=2017.4.17 in c:\\users\\prapanj k m\\anaconda3\\lib\\site-packages (from requests->vaderSentiment) (2023.7.22)\n",
      "Installing collected packages: vaderSentiment\n",
      "Successfully installed vaderSentiment-3.3.2\n"
     ]
    }
   ],
   "source": [
    "!pip install vaderSentiment"
   ]
  },
  {
   "cell_type": "code",
   "execution_count": 32,
   "id": "87126c53",
   "metadata": {},
   "outputs": [],
   "source": [
    "#Import Libraries and Load VADER"
   ]
  },
  {
   "cell_type": "code",
   "execution_count": 33,
   "id": "1e63fae1",
   "metadata": {},
   "outputs": [],
   "source": [
    "import nltk\n",
    "from vaderSentiment.vaderSentiment import SentimentIntensityAnalyzer"
   ]
  },
  {
   "cell_type": "code",
   "execution_count": 34,
   "id": "57e1fba5",
   "metadata": {},
   "outputs": [
    {
     "name": "stderr",
     "output_type": "stream",
     "text": [
      "[nltk_data] Downloading package vader_lexicon to C:\\Users\\PRAPANJ K\n",
      "[nltk_data]     M\\AppData\\Roaming\\nltk_data...\n"
     ]
    },
    {
     "data": {
      "text/plain": [
       "True"
      ]
     },
     "execution_count": 34,
     "metadata": {},
     "output_type": "execute_result"
    }
   ],
   "source": [
    "# Download the VADER lexicon\n",
    "nltk.download('vader_lexicon')\n"
   ]
  },
  {
   "cell_type": "code",
   "execution_count": 35,
   "id": "75e29e9f",
   "metadata": {},
   "outputs": [],
   "source": [
    "# Initialize the VADER sentiment intensity analyzer\n",
    "analyzer = SentimentIntensityAnalyzer()"
   ]
  },
  {
   "cell_type": "code",
   "execution_count": 36,
   "id": "07261e0b",
   "metadata": {},
   "outputs": [],
   "source": [
    "#Perform Sentiment Analysis on Blog Posts"
   ]
  },
  {
   "cell_type": "code",
   "execution_count": 37,
   "id": "f75ff995",
   "metadata": {},
   "outputs": [],
   "source": [
    "# Define a function to classify sentiment\n",
    "def classify_sentiment(text):\n",
    "    scores = analyzer.polarity_scores(text)\n",
    "    if scores['compound'] >= 0.05:\n",
    "        return 'Positive'\n",
    "    elif scores['compound'] <= -0.05:\n",
    "        return 'Negative'\n",
    "    else:\n",
    "        return 'Neutral'"
   ]
  },
  {
   "cell_type": "code",
   "execution_count": 38,
   "id": "a9bc1656",
   "metadata": {},
   "outputs": [],
   "source": [
    "# Apply the function to the 'Data' column to get sentiment for each blog post\n",
    "df['Sentiment'] = df['Data'].apply(classify_sentiment)"
   ]
  },
  {
   "cell_type": "code",
   "execution_count": 39,
   "id": "86d65ca0",
   "metadata": {},
   "outputs": [
    {
     "name": "stdout",
     "output_type": "stream",
     "text": [
      "                                                Data       Labels Sentiment\n",
      "0  path cantaloupesrvcscmuedumagnesiumclubcccmued...  alt.atheism  Negative\n",
      "1  newsgroups altatheism path cantaloupesrvcscmue...  alt.atheism  Positive\n",
      "2  path cantaloupesrvcscmuedudasnewsharvardedunoc...  alt.atheism  Negative\n",
      "3  path cantaloupesrvcscmuedumagnesiumclubcccmued...  alt.atheism  Negative\n",
      "4  xref cantaloupesrvcscmuedu altatheism53485 tal...  alt.atheism  Positive\n"
     ]
    }
   ],
   "source": [
    "# Display the first few rows of the dataframe with sentiment\n",
    "print(df.head())"
   ]
  },
  {
   "cell_type": "code",
   "execution_count": 40,
   "id": "d288bdf8",
   "metadata": {},
   "outputs": [],
   "source": [
    "#Examine the Distribution of Sentiments Across Different Categories"
   ]
  },
  {
   "cell_type": "code",
   "execution_count": 41,
   "id": "7e526dee",
   "metadata": {},
   "outputs": [],
   "source": [
    "# Group by category and sentiment to get the count\n",
    "sentiment_distribution = df.groupby(['Labels', 'Sentiment']).size().unstack().fillna(0)\n"
   ]
  },
  {
   "cell_type": "code",
   "execution_count": 42,
   "id": "b49aa4d3",
   "metadata": {},
   "outputs": [
    {
     "name": "stdout",
     "output_type": "stream",
     "text": [
      "Sentiment                 Negative  Neutral  Positive\n",
      "Labels                                               \n",
      "alt.atheism                   40.0      1.0      59.0\n",
      "comp.graphics                 10.0      3.0      87.0\n",
      "comp.os.ms-windows.misc       21.0      2.0      77.0\n",
      "comp.sys.ibm.pc.hardware      17.0      3.0      80.0\n",
      "comp.sys.mac.hardware         18.0      4.0      78.0\n",
      "comp.windows.x                20.0      2.0      78.0\n",
      "misc.forsale                   7.0     10.0      83.0\n",
      "rec.autos                     26.0      2.0      72.0\n",
      "rec.motorcycles               32.0      1.0      67.0\n",
      "rec.sport.baseball            26.0      3.0      71.0\n",
      "rec.sport.hockey              25.0      3.0      72.0\n",
      "sci.crypt                     24.0      1.0      75.0\n",
      "sci.electronics               13.0      5.0      82.0\n",
      "sci.med                       24.0      3.0      73.0\n",
      "sci.space                     27.0      5.0      68.0\n",
      "soc.religion.christian        25.0      1.0      74.0\n",
      "talk.politics.guns            67.0      4.0      29.0\n",
      "talk.politics.mideast         68.0      0.0      32.0\n",
      "talk.politics.misc            51.0      3.0      46.0\n",
      "talk.religion.misc            33.0      2.0      65.0\n"
     ]
    }
   ],
   "source": [
    "# Display the distribution\n",
    "print(sentiment_distribution)"
   ]
  },
  {
   "cell_type": "code",
   "execution_count": 43,
   "id": "11034216",
   "metadata": {},
   "outputs": [
    {
     "name": "stdout",
     "output_type": "stream",
     "text": [
      "Distribution of Sentiments:\n",
      "Sentiment\n",
      "Negative     574.0\n",
      "Neutral       58.0\n",
      "Positive    1368.0\n",
      "dtype: float64\n"
     ]
    }
   ],
   "source": [
    "# Summary of the distribution of sentiments\n",
    "print(\"Distribution of Sentiments:\")\n",
    "print(sentiment_distribution.sum(axis=0))"
   ]
  },
  {
   "cell_type": "code",
   "execution_count": 44,
   "id": "5ed58f9d",
   "metadata": {},
   "outputs": [],
   "source": [
    "#Visualize the Distribution of Sentiments (Optional)"
   ]
  },
  {
   "cell_type": "code",
   "execution_count": 45,
   "id": "63a14736",
   "metadata": {},
   "outputs": [],
   "source": [
    "import matplotlib.pyplot as plt"
   ]
  },
  {
   "cell_type": "code",
   "execution_count": 46,
   "id": "476c31c3",
   "metadata": {},
   "outputs": [
    {
     "data": {
      "image/png": "[encoded data removed]",
      "text/plain": [
       "<Figure size 864x576 with 1 Axes>"
      ]
     },
     "metadata": {
      "needs_background": "light"
     },
     "output_type": "display_data"
    }
   ],
   "source": [
    "# Plot the distribution of sentiments across categories\n",
    "sentiment_distribution.plot(kind='bar', stacked=True, figsize=(12, 8))\n",
    "plt.title('Distribution of Sentiments Across Categories')\n",
    "plt.xlabel('Category')\n",
    "plt.ylabel('Number of Posts')\n",
    "plt.legend(title='Sentiment')\n",
    "plt.show()"
   ]
  },
  {
   "cell_type": "markdown",
   "id": "8f0123cc",
   "metadata": {},
   "source": [
    "# 4. Evaluation"
   ]
  },
  {
   "cell_type": "code",
   "execution_count": 47,
   "id": "f838e2fa",
   "metadata": {},
   "outputs": [],
   "source": [
    "#Evaluate the Performance of the Naive Bayes Classifier"
   ]
  },
  {
   "cell_type": "code",
   "execution_count": 48,
   "id": "2c0c84b2",
   "metadata": {},
   "outputs": [],
   "source": [
    "from sklearn.metrics import accuracy_score, classification_report, confusion_matrix\n"
   ]
  },
  {
   "cell_type": "code",
   "execution_count": 49,
   "id": "7dc1ee99",
   "metadata": {},
   "outputs": [
    {
     "name": "stdout",
     "output_type": "stream",
     "text": [
      "Accuracy: 0.8200\n"
     ]
    }
   ],
   "source": [
    "# Calculate accuracy\n",
    "accuracy = accuracy_score(y_test, y_pred)\n",
    "print(f\"Accuracy: {accuracy:.4f}\")\n"
   ]
  },
  {
   "cell_type": "code",
   "execution_count": 50,
   "id": "01489f67",
   "metadata": {},
   "outputs": [
    {
     "name": "stdout",
     "output_type": "stream",
     "text": [
      "Classification Report:\n",
      "                           precision    recall  f1-score   support\n",
      "\n",
      "             alt.atheism       0.52      0.89      0.65        18\n",
      "           comp.graphics       0.62      0.83      0.71        18\n",
      " comp.os.ms-windows.misc       0.95      0.86      0.90        22\n",
      "comp.sys.ibm.pc.hardware       0.95      0.76      0.84        25\n",
      "   comp.sys.mac.hardware       0.87      0.95      0.91        21\n",
      "          comp.windows.x       1.00      0.80      0.89        25\n",
      "            misc.forsale       0.92      0.61      0.73        18\n",
      "               rec.autos       0.89      0.89      0.89        18\n",
      "         rec.motorcycles       0.88      0.88      0.88        16\n",
      "      rec.sport.baseball       0.80      0.89      0.84        18\n",
      "        rec.sport.hockey       0.83      1.00      0.91        15\n",
      "               sci.crypt       0.82      0.95      0.88        19\n",
      "         sci.electronics       0.68      0.81      0.74        16\n",
      "                 sci.med       0.94      0.88      0.91        17\n",
      "               sci.space       1.00      0.86      0.92        21\n",
      "  soc.religion.christian       0.85      0.96      0.90        23\n",
      "      talk.politics.guns       0.95      0.75      0.84        28\n",
      "   talk.politics.mideast       0.95      0.95      0.95        20\n",
      "      talk.politics.misc       0.57      0.89      0.70        18\n",
      "      talk.religion.misc       0.71      0.21      0.32        24\n",
      "\n",
      "                accuracy                           0.82       400\n",
      "               macro avg       0.84      0.83      0.82       400\n",
      "            weighted avg       0.84      0.82      0.81       400\n",
      "\n"
     ]
    }
   ],
   "source": [
    "# Display the classification report\n",
    "report = classification_report(y_test, y_pred)\n",
    "print(\"Classification Report:\\n\", report)\n"
   ]
  },
  {
   "cell_type": "code",
   "execution_count": 51,
   "id": "c83ff539",
   "metadata": {},
   "outputs": [
    {
     "name": "stdout",
     "output_type": "stream",
     "text": [
      "Confusion Matrix:\n",
      " [[16  0  0  0  0  0  0  0  0  0  0  1  0  0  0  0  0  0  0  1]\n",
      " [ 0 15  0  0  0  0  1  0  0  0  1  0  1  0  0  0  0  0  0  0]\n",
      " [ 0  1 19  1  0  0  0  0  0  0  0  0  1  0  0  0  0  0  0  0]\n",
      " [ 0  1  1 19  0  0  0  0  0  0  0  3  1  0  0  0  0  0  0  0]\n",
      " [ 0  0  0  0 20  0  0  0  0  0  0  0  0  0  0  0  0  0  1  0]\n",
      " [ 0  3  0  0  0 20  0  0  0  1  0  0  0  0  0  0  0  0  1  0]\n",
      " [ 0  2  0  0  1  0 11  1  1  0  0  0  1  0  0  0  0  0  1  0]\n",
      " [ 0  0  0  0  0  0  0 16  1  0  0  0  0  0  0  0  0  0  1  0]\n",
      " [ 0  0  0  0  0  0  0  1 14  0  0  0  1  0  0  0  0  0  0  0]\n",
      " [ 0  0  0  0  0  0  0  0  0 16  2  0  0  0  0  0  0  0  0  0]\n",
      " [ 0  0  0  0  0  0  0  0  0  0 15  0  0  0  0  0  0  0  0  0]\n",
      " [ 0  0  0  0  0  0  0  0  0  0  0 18  0  0  0  0  0  0  1  0]\n",
      " [ 0  0  0  0  2  0  0  0  0  1  0  0 13  0  0  0  0  0  0  0]\n",
      " [ 0  1  0  0  0  0  0  0  0  0  0  0  1 15  0  0  0  0  0  0]\n",
      " [ 0  1  0  0  0  0  0  0  0  2  0  0  0  0 18  0  0  0  0  0]\n",
      " [ 1  0  0  0  0  0  0  0  0  0  0  0  0  0  0 22  0  0  0  0]\n",
      " [ 1  0  0  0  0  0  0  0  0  0  0  0  0  1  0  1 21  0  4  0]\n",
      " [ 0  0  0  0  0  0  0  0  0  0  0  0  0  0  0  0  0 19  1  0]\n",
      " [ 0  0  0  0  0  0  0  0  0  0  0  0  0  0  0  0  0  1 16  1]\n",
      " [13  0  0  0  0  0  0  0  0  0  0  0  0  0  0  3  1  0  2  5]]\n"
     ]
    }
   ],
   "source": [
    "# Display the confusion matrix\n",
    "conf_matrix = confusion_matrix(y_test, y_pred)\n",
    "print(\"Confusion Matrix:\\n\", conf_matrix)"
   ]
  },
  {
   "cell_type": "code",
   "execution_count": 52,
   "id": "2fde5d76",
   "metadata": {},
   "outputs": [],
   "source": [
    "#Discuss the Performance of the Model"
   ]
  },
  {
   "cell_type": "code",
   "execution_count": 53,
   "id": "903a6a2d",
   "metadata": {},
   "outputs": [
    {
     "name": "stdout",
     "output_type": "stream",
     "text": [
      "Model Performance Analysis:\n",
      "Accuracy: 0.8200\n",
      "The classification report shows the precision, recall, and F1-score for each category. Here is a brief discussion:\n"
     ]
    }
   ],
   "source": [
    "# Analysis of the performance\n",
    "print(\"Model Performance Analysis:\")\n",
    "print(f\"Accuracy: {accuracy:.4f}\")\n",
    "print(\"The classification report shows the precision, recall, and F1-score for each category. Here is a brief discussion:\")\n"
   ]
  },
  {
   "cell_type": "code",
   "execution_count": 54,
   "id": "ea20cc1e",
   "metadata": {},
   "outputs": [],
   "source": [
    "# Convert the classification report to a dictionary for detailed analysis\n",
    "from sklearn.metrics import classification_report\n",
    "import pandas as pd"
   ]
  },
  {
   "cell_type": "code",
   "execution_count": 55,
   "id": "126dc442",
   "metadata": {},
   "outputs": [],
   "source": [
    "report_dict = classification_report(y_test, y_pred, output_dict=True)\n",
    "report_df = pd.DataFrame(report_dict).transpose()\n"
   ]
  },
  {
   "cell_type": "code",
   "execution_count": 56,
   "id": "d0362ba6",
   "metadata": {},
   "outputs": [
    {
     "name": "stdout",
     "output_type": "stream",
     "text": [
      "                          precision    recall  f1-score  support\n",
      "alt.atheism                0.516129  0.888889  0.653061    18.00\n",
      "comp.graphics              0.625000  0.833333  0.714286    18.00\n",
      "comp.os.ms-windows.misc    0.950000  0.863636  0.904762    22.00\n",
      "comp.sys.ibm.pc.hardware   0.950000  0.760000  0.844444    25.00\n",
      "comp.sys.mac.hardware      0.869565  0.952381  0.909091    21.00\n",
      "comp.windows.x             1.000000  0.800000  0.888889    25.00\n",
      "misc.forsale               0.916667  0.611111  0.733333    18.00\n",
      "rec.autos                  0.888889  0.888889  0.888889    18.00\n",
      "rec.motorcycles            0.875000  0.875000  0.875000    16.00\n",
      "rec.sport.baseball         0.800000  0.888889  0.842105    18.00\n",
      "rec.sport.hockey           0.833333  1.000000  0.909091    15.00\n",
      "sci.crypt                  0.818182  0.947368  0.878049    19.00\n",
      "sci.electronics            0.684211  0.812500  0.742857    16.00\n",
      "sci.med                    0.937500  0.882353  0.909091    17.00\n",
      "sci.space                  1.000000  0.857143  0.923077    21.00\n",
      "soc.religion.christian     0.846154  0.956522  0.897959    23.00\n",
      "talk.politics.guns         0.954545  0.750000  0.840000    28.00\n",
      "talk.politics.mideast      0.950000  0.950000  0.950000    20.00\n",
      "talk.politics.misc         0.571429  0.888889  0.695652    18.00\n",
      "talk.religion.misc         0.714286  0.208333  0.322581    24.00\n",
      "accuracy                   0.820000  0.820000  0.820000     0.82\n",
      "macro avg                  0.835044  0.830762  0.816111   400.00\n",
      "weighted avg               0.844747  0.820000  0.814450   400.00\n"
     ]
    }
   ],
   "source": [
    "print(report_df)"
   ]
  },
  {
   "cell_type": "code",
   "execution_count": 57,
   "id": "35d741b2",
   "metadata": {},
   "outputs": [
    {
     "name": "stdout",
     "output_type": "stream",
     "text": [
      "Challenges Encountered:\n",
      "- Imbalanced classes: If certain categories have fewer samples, the model might perform worse on those.\n",
      "- Text preprocessing: The quality of preprocessing steps (like removing stopwords, tokenization) directly affects model performance.\n",
      "- Feature extraction: TF-IDF captures term importance well, but might miss some context that could be useful for classification.\n"
     ]
    }
   ],
   "source": [
    "# Discuss any potential challenges\n",
    "print(\"Challenges Encountered:\")\n",
    "print(\"- Imbalanced classes: If certain categories have fewer samples, the model might perform worse on those.\")\n",
    "print(\"- Text preprocessing: The quality of preprocessing steps (like removing stopwords, tokenization) directly affects model performance.\")\n",
    "print(\"- Feature extraction: TF-IDF captures term importance well, but might miss some context that could be useful for classification.\")"
   ]
  },
  {
   "cell_type": "code",
   "execution_count": 58,
   "id": "8b1765ef",
   "metadata": {},
   "outputs": [],
   "source": [
    "#Reflect on the Sentiment Analysis Results"
   ]
  },
  {
   "cell_type": "code",
   "execution_count": 59,
   "id": "7213c1c9",
   "metadata": {},
   "outputs": [
    {
     "name": "stdout",
     "output_type": "stream",
     "text": [
      "Sentiment Summary:\n",
      " Positive    1368\n",
      "Negative     574\n",
      "Neutral       58\n",
      "Name: Sentiment, dtype: int64\n"
     ]
    }
   ],
   "source": [
    "# Sentiment distribution summary\n",
    "sentiment_summary = df['Sentiment'].value_counts()\n",
    "print(\"Sentiment Summary:\\n\", sentiment_summary)"
   ]
  },
  {
   "cell_type": "code",
   "execution_count": 60,
   "id": "8cb5d97a",
   "metadata": {},
   "outputs": [
    {
     "name": "stdout",
     "output_type": "stream",
     "text": [
      "Reflection on Sentiment Analysis Results:\n",
      "The sentiment analysis revealed the overall tone of the blog posts. Here is a brief discussion:\n",
      "- Positive posts: 1368 posts.\n",
      "- Negative posts: 574 posts.\n",
      "- Neutral posts: 58 posts.\n",
      "Implications:\n",
      "- A high number of positive posts might indicate a generally optimistic tone in the blog content.\n",
      "- A high number of negative posts might suggest that the blog often discusses problems or issues.\n",
      "- Neutral posts indicate objective or factual content, without strong sentiment.\n"
     ]
    }
   ],
   "source": [
    "print(\"Reflection on Sentiment Analysis Results:\")\n",
    "print(\"The sentiment analysis revealed the overall tone of the blog posts. Here is a brief discussion:\")\n",
    "print(f\"- Positive posts: {sentiment_summary['Positive']} posts.\")\n",
    "print(f\"- Negative posts: {sentiment_summary['Negative']} posts.\")\n",
    "print(f\"- Neutral posts: {sentiment_summary['Neutral']} posts.\")\n",
    "print(\"Implications:\")\n",
    "print(\"- A high number of positive posts might indicate a generally optimistic tone in the blog content.\")\n",
    "print(\"- A high number of negative posts might suggest that the blog often discusses problems or issues.\")\n",
    "print(\"- Neutral posts indicate objective or factual content, without strong sentiment.\")"
   ]
  },
  {
   "cell_type": "code",
   "execution_count": null,
   "id": "4c806b6e",
   "metadata": {},
   "outputs": [],
   "source": []
  }
 ],
 "metadata": {
  "kernelspec": {
   "display_name": "Python 3",
   "language": "python",
   "name": "python3"
  },
  "language_info": {
   "codemirror_mode": {
    "name": "ipython",
    "version": 3
   },
   "file_extension": ".py",
   "mimetype": "text/x-python",
   "name": "python",
   "nbconvert_exporter": "python",
   "pygments_lexer": "ipython3",
   "version": "3.8.8"
  }
 },
 "nbformat": 4,
 "nbformat_minor": 5
}
