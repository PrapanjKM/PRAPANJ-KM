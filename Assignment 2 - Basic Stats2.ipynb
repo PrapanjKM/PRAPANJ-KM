{
 "cells": [
  {
   "cell_type": "code",
   "execution_count": 1,
   "id": "20c86e41",
   "metadata": {},
   "outputs": [],
   "source": [
    "import numpy as np\n",
    "from scipy import stats"
   ]
  },
  {
   "cell_type": "code",
   "execution_count": 2,
   "id": "dcc6cd38",
   "metadata": {},
   "outputs": [],
   "source": [
    "# Data: Durability of print-heads in millions of characters\n",
    "data = np.array([1.13, 1.55, 1.43, 0.92, 1.25, 1.36, 1.32, 0.85, 1.07, 1.48, 1.20, 1.33, 1.18, 1.22, 1.29])\n"
   ]
  },
  {
   "cell_type": "markdown",
   "id": "090eb39c",
   "metadata": {},
   "source": [
    "# Part a: Confidence Interval using Sample Standard Deviation"
   ]
  },
  {
   "cell_type": "code",
   "execution_count": 3,
   "id": "4b446cd3",
   "metadata": {},
   "outputs": [],
   "source": [
    "# Calculate sample mean and sample standard deviation\n",
    "sample_mean = np.mean(data)\n",
    "sample_std = np.std(data, ddof=1)  # ddof=1 for sample standard deviation\n",
    "n = len(data)"
   ]
  },
  {
   "cell_type": "code",
   "execution_count": 4,
   "id": "24b4be2f",
   "metadata": {},
   "outputs": [],
   "source": [
    "# Determine the t-score for 99% confidence level\n",
    "confidence_level = 0.99\n",
    "alpha = 1 - confidence_level\n",
    "t_score = stats.t.ppf(1 - alpha/2, df=n-1)"
   ]
  },
  {
   "cell_type": "code",
   "execution_count": 5,
   "id": "3d0b8d2e",
   "metadata": {},
   "outputs": [],
   "source": [
    "# Calculate the margin of error\n",
    "margin_of_error_a = t_score * (sample_std / np.sqrt(n))"
   ]
  },
  {
   "cell_type": "code",
   "execution_count": 6,
   "id": "492f34c0",
   "metadata": {},
   "outputs": [],
   "source": [
    "# Construct the confidence interval\n",
    "ci_lower_a = sample_mean - margin_of_error_a\n",
    "ci_upper_a = sample_mean + margin_of_error_a"
   ]
  },
  {
   "cell_type": "code",
   "execution_count": 7,
   "id": "ba0e1c44",
   "metadata": {},
   "outputs": [
    {
     "name": "stdout",
     "output_type": "stream",
     "text": [
      "99% Confidence Interval using Sample Standard Deviation: (1.0902, 1.3871)\n"
     ]
    }
   ],
   "source": [
    "print(f\"99% Confidence Interval using Sample Standard Deviation: ({ci_lower_a:.4f}, {ci_upper_a:.4f})\")\n"
   ]
  },
  {
   "cell_type": "markdown",
   "id": "61c2b7dd",
   "metadata": {},
   "source": [
    "# Part b: Confidence Interval using Known Population Standard Deviation"
   ]
  },
  {
   "cell_type": "code",
   "execution_count": 8,
   "id": "eacf63e4",
   "metadata": {},
   "outputs": [],
   "source": [
    "# Given population standard deviation\n",
    "population_std = 0.2"
   ]
  },
  {
   "cell_type": "code",
   "execution_count": 9,
   "id": "cb641f19",
   "metadata": {},
   "outputs": [],
   "source": [
    "# Determine the z-score for 99% confidence level\n",
    "z_score = stats.norm.ppf(1 - alpha/2)"
   ]
  },
  {
   "cell_type": "code",
   "execution_count": 10,
   "id": "f7ef45f5",
   "metadata": {},
   "outputs": [],
   "source": [
    "# Calculate the margin of error\n",
    "margin_of_error_b = z_score * (population_std / np.sqrt(n))"
   ]
  },
  {
   "cell_type": "code",
   "execution_count": 11,
   "id": "2e2dff4d",
   "metadata": {},
   "outputs": [],
   "source": [
    "# Construct the confidence interval\n",
    "ci_lower_b = sample_mean - margin_of_error_b\n",
    "ci_upper_b = sample_mean + margin_of_error_b"
   ]
  },
  {
   "cell_type": "code",
   "execution_count": 12,
   "id": "3190d5d1",
   "metadata": {},
   "outputs": [
    {
     "name": "stdout",
     "output_type": "stream",
     "text": [
      "99% Confidence Interval using Known Population Standard Deviation: (1.1057, 1.3717)\n"
     ]
    }
   ],
   "source": [
    "print(f\"99% Confidence Interval using Known Population Standard Deviation: ({ci_lower_b:.4f}, {ci_upper_b:.4f})\")"
   ]
  },
  {
   "cell_type": "code",
   "execution_count": null,
   "id": "a107899d",
   "metadata": {},
   "outputs": [],
   "source": []
  }
 ],
 "metadata": {
  "kernelspec": {
   "display_name": "Python 3",
   "language": "python",
   "name": "python3"
  },
  "language_info": {
   "codemirror_mode": {
    "name": "ipython",
    "version": 3
   },
   "file_extension": ".py",
   "mimetype": "text/x-python",
   "name": "python",
   "nbconvert_exporter": "python",
   "pygments_lexer": "ipython3",
   "version": "3.8.8"
  }
 },
 "nbformat": 4,
 "nbformat_minor": 5
}
