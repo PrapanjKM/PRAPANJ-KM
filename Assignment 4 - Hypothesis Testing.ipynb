{
 "cells": [
  {
   "cell_type": "markdown",
   "id": "19e9a982",
   "metadata": {},
   "source": [
    "# CHI - SQARE CHECK"
   ]
  },
  {
   "cell_type": "code",
   "execution_count": 1,
   "id": "02ed7a52",
   "metadata": {},
   "outputs": [],
   "source": [
    "import numpy as np\n",
    "import pandas as pd\n",
    "from scipy.stats import chi2_contingency"
   ]
  },
  {
   "cell_type": "code",
   "execution_count": 2,
   "id": "22fe17c7",
   "metadata": {},
   "outputs": [],
   "source": [
    "# Data: Contingency table\n",
    "data = np.array([\n",
    "    [50, 70],\n",
    "    [80, 100],\n",
    "    [60, 90],\n",
    "    [30, 50],\n",
    "    [20, 50]\n",
    "])"
   ]
  },
  {
   "cell_type": "code",
   "execution_count": 3,
   "id": "4ceab88f",
   "metadata": {},
   "outputs": [
    {
     "name": "stdout",
     "output_type": "stream",
     "text": [
      "Contingency Table:\n",
      "                   Smart Thermostat  Smart Light\n",
      "Very Satisfied                  50           70\n",
      "Satisfied                       80          100\n",
      "Neutral                         60           90\n",
      "Unsatisfied                     30           50\n",
      "Very Unsatisfied                20           50\n"
     ]
    }
   ],
   "source": [
    "# Create a DataFrame for better visualization\n",
    "df = pd.DataFrame(data, columns=[\"Smart Thermostat\", \"Smart Light\"], index=[\"Very Satisfied\", \"Satisfied\", \"Neutral\", \"Unsatisfied\", \"Very Unsatisfied\"])\n",
    "print(\"Contingency Table:\\n\", df)"
   ]
  },
  {
   "cell_type": "code",
   "execution_count": 4,
   "id": "6500e257",
   "metadata": {},
   "outputs": [],
   "source": [
    "# Step 2: Compute the Chi-Square Statistic\n",
    "chi2, p, dof, expected = chi2_contingency(data)"
   ]
  },
  {
   "cell_type": "code",
   "execution_count": 5,
   "id": "07f1c7ee",
   "metadata": {},
   "outputs": [],
   "source": [
    "# Step 3: Determine the Critical Value\n",
    "alpha = 0.05\n",
    "critical_value = chi2_contingency(data)[0]"
   ]
  },
  {
   "cell_type": "code",
   "execution_count": 6,
   "id": "c6bacc36",
   "metadata": {},
   "outputs": [
    {
     "name": "stdout",
     "output_type": "stream",
     "text": [
      "\n",
      "Chi-Square Statistic: 5.6382\n",
      "Degrees of Freedom: 4\n",
      "Critical Value for alpha = 0.05: 5.6382\n",
      "P-Value: 0.2278\n"
     ]
    }
   ],
   "source": [
    "# Step 4: Make a Decision\n",
    "print(f\"\\nChi-Square Statistic: {chi2:.4f}\")\n",
    "print(f\"Degrees of Freedom: {dof}\")\n",
    "print(f\"Critical Value for alpha = {alpha}: {critical_value:.4f}\")\n",
    "print(f\"P-Value: {p:.4f}\")"
   ]
  },
  {
   "cell_type": "code",
   "execution_count": 7,
   "id": "821fa929",
   "metadata": {},
   "outputs": [
    {
     "name": "stdout",
     "output_type": "stream",
     "text": [
      "Fail to reject the null hypothesis: There is no significant association between the type of smart home device and customer satisfaction level.\n"
     ]
    }
   ],
   "source": [
    "if chi2 > critical_value:\n",
    "    print(\"Reject the null hypothesis: There is a significant association between the type of smart home device and customer satisfaction level.\")\n",
    "else:\n",
    "    print(\"Fail to reject the null hypothesis: There is no significant association between the type of smart home device and customer satisfaction level.\")"
   ]
  },
  {
   "cell_type": "markdown",
   "id": "1f20ad65",
   "metadata": {},
   "source": [
    "# Hypothesis Testing"
   ]
  },
  {
   "cell_type": "code",
   "execution_count": 8,
   "id": "088c2992",
   "metadata": {},
   "outputs": [],
   "source": [
    "import numpy as np\n",
    "from scipy.stats import t"
   ]
  },
  {
   "cell_type": "code",
   "execution_count": 9,
   "id": "c6ce961b",
   "metadata": {},
   "outputs": [],
   "source": [
    "# Data Provided\n",
    "sample_mean = 3050\n",
    "theoretical_cost = 1000 + 55 * 600\n",
    "std_dev = 5 * 25\n",
    "sample_size = 25"
   ]
  },
  {
   "cell_type": "code",
   "execution_count": 10,
   "id": "d47e5796",
   "metadata": {},
   "outputs": [],
   "source": [
    "# Step 1: Calculate the Test Statistic\n",
    "t_statistic = (sample_mean - theoretical_cost) / (std_dev / np.sqrt(sample_size))"
   ]
  },
  {
   "cell_type": "code",
   "execution_count": 11,
   "id": "8a5d6519",
   "metadata": {},
   "outputs": [],
   "source": [
    "# Step 2: Determine the Critical Value\n",
    "alpha = 0.05\n",
    "degrees_of_freedom = sample_size - 1\n",
    "critical_value = t.ppf(1 - alpha, degrees_of_freedom)"
   ]
  },
  {
   "cell_type": "code",
   "execution_count": 12,
   "id": "487ab74b",
   "metadata": {},
   "outputs": [],
   "source": [
    "# Step 3: Make a Decision\n",
    "reject_null = t_statistic > critical_value"
   ]
  },
  {
   "cell_type": "code",
   "execution_count": 13,
   "id": "e465ea48",
   "metadata": {},
   "outputs": [
    {
     "name": "stdout",
     "output_type": "stream",
     "text": [
      "Theoretical Mean Weekly Cost: 34000\n",
      "Sample Mean Weekly Cost: 3050\n",
      "Standard Deviation: 125\n",
      "Sample Size: 25\n",
      "Calculated t-Statistic: -1238.0000\n",
      "Critical Value (alpha = 0.05): 1.7109\n"
     ]
    }
   ],
   "source": [
    "# Output the results\n",
    "print(f\"Theoretical Mean Weekly Cost: {theoretical_cost}\")\n",
    "print(f\"Sample Mean Weekly Cost: {sample_mean}\")\n",
    "print(f\"Standard Deviation: {std_dev}\")\n",
    "print(f\"Sample Size: {sample_size}\")\n",
    "print(f\"Calculated t-Statistic: {t_statistic:.4f}\")\n",
    "print(f\"Critical Value (alpha = {alpha}): {critical_value:.4f}\")"
   ]
  },
  {
   "cell_type": "code",
   "execution_count": 14,
   "id": "8699e5f2",
   "metadata": {},
   "outputs": [
    {
     "name": "stdout",
     "output_type": "stream",
     "text": [
      "Fail to reject the null hypothesis: There is not enough evidence to support the restaurant owners' claim that the weekly operating costs are higher than the model suggests.\n"
     ]
    }
   ],
   "source": [
    "\n",
    "if reject_null:\n",
    "    print(\"Reject the null hypothesis: There is strong evidence to support the restaurant owners' claim that the weekly operating costs are higher than the model suggests.\")\n",
    "else:\n",
    "    print(\"Fail to reject the null hypothesis: There is not enough evidence to support the restaurant owners' claim that the weekly operating costs are higher than the model suggests.\")"
   ]
  },
  {
   "cell_type": "code",
   "execution_count": null,
   "id": "7bb81d00",
   "metadata": {},
   "outputs": [],
   "source": []
  }
 ],
 "metadata": {
  "kernelspec": {
   "display_name": "Python 3",
   "language": "python",
   "name": "python3"
  },
  "language_info": {
   "codemirror_mode": {
    "name": "ipython",
    "version": 3
   },
   "file_extension": ".py",
   "mimetype": "text/x-python",
   "name": "python",
   "nbconvert_exporter": "python",
   "pygments_lexer": "ipython3",
   "version": "3.8.8"
  }
 },
 "nbformat": 4,
 "nbformat_minor": 5
}
