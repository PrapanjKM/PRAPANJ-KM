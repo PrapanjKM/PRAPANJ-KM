{
 "cells": [
  {
   "cell_type": "markdown",
   "id": "f73481cc",
   "metadata": {},
   "source": [
    "# 1. Exploratory Data Analysis (EDA):"
   ]
  },
  {
   "cell_type": "code",
   "execution_count": 2,
   "id": "59ff068e",
   "metadata": {},
   "outputs": [],
   "source": [
    "# Step 1: Import Libraries\n",
    "import pandas as pd\n",
    "import matplotlib.pyplot as plt\n",
    "import seaborn as sns"
   ]
  },
  {
   "cell_type": "code",
   "execution_count": 3,
   "id": "090c93fa",
   "metadata": {},
   "outputs": [],
   "source": [
    "# Step 2: Load the Dataset from Excel\n",
    "# Assuming the Excel file is named 'glass_data.xlsx' and is in the current directory\n",
    "file_path = \"D:\\Assignments Data Science ExcelR\\Random Forest\\Random Forest\\glass.xlsx\"\n",
    "sheet_name = 'glass'  # Specify the sheet name\n",
    "data = pd.read_excel(file_path, sheet_name=sheet_name)"
   ]
  },
  {
   "cell_type": "code",
   "execution_count": 4,
   "id": "8bee327c",
   "metadata": {},
   "outputs": [
    {
     "data": {
      "text/html": [
       "<div>\n",
       "<style scoped>\n",
       "    .dataframe tbody tr th:only-of-type {\n",
       "        vertical-align: middle;\n",
       "    }\n",
       "\n",
       "    .dataframe tbody tr th {\n",
       "        vertical-align: top;\n",
       "    }\n",
       "\n",
       "    .dataframe thead th {\n",
       "        text-align: right;\n",
       "    }\n",
       "</style>\n",
       "<table border=\"1\" class=\"dataframe\">\n",
       "  <thead>\n",
       "    <tr style=\"text-align: right;\">\n",
       "      <th></th>\n",
       "      <th>RI</th>\n",
       "      <th>Na</th>\n",
       "      <th>Mg</th>\n",
       "      <th>Al</th>\n",
       "      <th>Si</th>\n",
       "      <th>K</th>\n",
       "      <th>Ca</th>\n",
       "      <th>Ba</th>\n",
       "      <th>Fe</th>\n",
       "      <th>Type</th>\n",
       "    </tr>\n",
       "  </thead>\n",
       "  <tbody>\n",
       "    <tr>\n",
       "      <th>0</th>\n",
       "      <td>1.52101</td>\n",
       "      <td>13.64</td>\n",
       "      <td>4.49</td>\n",
       "      <td>1.10</td>\n",
       "      <td>71.78</td>\n",
       "      <td>0.06</td>\n",
       "      <td>8.75</td>\n",
       "      <td>0.0</td>\n",
       "      <td>0.0</td>\n",
       "      <td>1</td>\n",
       "    </tr>\n",
       "    <tr>\n",
       "      <th>1</th>\n",
       "      <td>1.51761</td>\n",
       "      <td>13.89</td>\n",
       "      <td>3.60</td>\n",
       "      <td>1.36</td>\n",
       "      <td>72.73</td>\n",
       "      <td>0.48</td>\n",
       "      <td>7.83</td>\n",
       "      <td>0.0</td>\n",
       "      <td>0.0</td>\n",
       "      <td>1</td>\n",
       "    </tr>\n",
       "    <tr>\n",
       "      <th>2</th>\n",
       "      <td>1.51618</td>\n",
       "      <td>13.53</td>\n",
       "      <td>3.55</td>\n",
       "      <td>1.54</td>\n",
       "      <td>72.99</td>\n",
       "      <td>0.39</td>\n",
       "      <td>7.78</td>\n",
       "      <td>0.0</td>\n",
       "      <td>0.0</td>\n",
       "      <td>1</td>\n",
       "    </tr>\n",
       "    <tr>\n",
       "      <th>3</th>\n",
       "      <td>1.51766</td>\n",
       "      <td>13.21</td>\n",
       "      <td>3.69</td>\n",
       "      <td>1.29</td>\n",
       "      <td>72.61</td>\n",
       "      <td>0.57</td>\n",
       "      <td>8.22</td>\n",
       "      <td>0.0</td>\n",
       "      <td>0.0</td>\n",
       "      <td>1</td>\n",
       "    </tr>\n",
       "    <tr>\n",
       "      <th>4</th>\n",
       "      <td>1.51742</td>\n",
       "      <td>13.27</td>\n",
       "      <td>3.62</td>\n",
       "      <td>1.24</td>\n",
       "      <td>73.08</td>\n",
       "      <td>0.55</td>\n",
       "      <td>8.07</td>\n",
       "      <td>0.0</td>\n",
       "      <td>0.0</td>\n",
       "      <td>1</td>\n",
       "    </tr>\n",
       "  </tbody>\n",
       "</table>\n",
       "</div>"
      ],
      "text/plain": [
       "        RI     Na    Mg    Al     Si     K    Ca   Ba   Fe  Type\n",
       "0  1.52101  13.64  4.49  1.10  71.78  0.06  8.75  0.0  0.0     1\n",
       "1  1.51761  13.89  3.60  1.36  72.73  0.48  7.83  0.0  0.0     1\n",
       "2  1.51618  13.53  3.55  1.54  72.99  0.39  7.78  0.0  0.0     1\n",
       "3  1.51766  13.21  3.69  1.29  72.61  0.57  8.22  0.0  0.0     1\n",
       "4  1.51742  13.27  3.62  1.24  73.08  0.55  8.07  0.0  0.0     1"
      ]
     },
     "execution_count": 4,
     "metadata": {},
     "output_type": "execute_result"
    }
   ],
   "source": [
    "data.head()"
   ]
  },
  {
   "cell_type": "code",
   "execution_count": 5,
   "id": "c4e5a9c8",
   "metadata": {},
   "outputs": [
    {
     "name": "stdout",
     "output_type": "stream",
     "text": [
      "<class 'pandas.core.frame.DataFrame'>\n",
      "RangeIndex: 214 entries, 0 to 213\n",
      "Data columns (total 10 columns):\n",
      " #   Column  Non-Null Count  Dtype  \n",
      "---  ------  --------------  -----  \n",
      " 0   RI      214 non-null    float64\n",
      " 1   Na      214 non-null    float64\n",
      " 2   Mg      214 non-null    float64\n",
      " 3   Al      214 non-null    float64\n",
      " 4   Si      214 non-null    float64\n",
      " 5   K       214 non-null    float64\n",
      " 6   Ca      214 non-null    float64\n",
      " 7   Ba      214 non-null    float64\n",
      " 8   Fe      214 non-null    float64\n",
      " 9   Type    214 non-null    int64  \n",
      "dtypes: float64(9), int64(1)\n",
      "memory usage: 16.8 KB\n"
     ]
    }
   ],
   "source": [
    "data.info()"
   ]
  },
  {
   "cell_type": "code",
   "execution_count": 6,
   "id": "0ae41082",
   "metadata": {},
   "outputs": [
    {
     "data": {
      "text/html": [
       "<div>\n",
       "<style scoped>\n",
       "    .dataframe tbody tr th:only-of-type {\n",
       "        vertical-align: middle;\n",
       "    }\n",
       "\n",
       "    .dataframe tbody tr th {\n",
       "        vertical-align: top;\n",
       "    }\n",
       "\n",
       "    .dataframe thead th {\n",
       "        text-align: right;\n",
       "    }\n",
       "</style>\n",
       "<table border=\"1\" class=\"dataframe\">\n",
       "  <thead>\n",
       "    <tr style=\"text-align: right;\">\n",
       "      <th></th>\n",
       "      <th>RI</th>\n",
       "      <th>Na</th>\n",
       "      <th>Mg</th>\n",
       "      <th>Al</th>\n",
       "      <th>Si</th>\n",
       "      <th>K</th>\n",
       "      <th>Ca</th>\n",
       "      <th>Ba</th>\n",
       "      <th>Fe</th>\n",
       "      <th>Type</th>\n",
       "    </tr>\n",
       "  </thead>\n",
       "  <tbody>\n",
       "    <tr>\n",
       "      <th>count</th>\n",
       "      <td>214.000000</td>\n",
       "      <td>214.000000</td>\n",
       "      <td>214.000000</td>\n",
       "      <td>214.000000</td>\n",
       "      <td>214.000000</td>\n",
       "      <td>214.000000</td>\n",
       "      <td>214.000000</td>\n",
       "      <td>214.000000</td>\n",
       "      <td>214.000000</td>\n",
       "      <td>214.000000</td>\n",
       "    </tr>\n",
       "    <tr>\n",
       "      <th>mean</th>\n",
       "      <td>1.518365</td>\n",
       "      <td>13.407850</td>\n",
       "      <td>2.684533</td>\n",
       "      <td>1.444907</td>\n",
       "      <td>72.650935</td>\n",
       "      <td>0.497056</td>\n",
       "      <td>8.956963</td>\n",
       "      <td>0.175047</td>\n",
       "      <td>0.057009</td>\n",
       "      <td>2.780374</td>\n",
       "    </tr>\n",
       "    <tr>\n",
       "      <th>std</th>\n",
       "      <td>0.003037</td>\n",
       "      <td>0.816604</td>\n",
       "      <td>1.442408</td>\n",
       "      <td>0.499270</td>\n",
       "      <td>0.774546</td>\n",
       "      <td>0.652192</td>\n",
       "      <td>1.423153</td>\n",
       "      <td>0.497219</td>\n",
       "      <td>0.097439</td>\n",
       "      <td>2.103739</td>\n",
       "    </tr>\n",
       "    <tr>\n",
       "      <th>min</th>\n",
       "      <td>1.511150</td>\n",
       "      <td>10.730000</td>\n",
       "      <td>0.000000</td>\n",
       "      <td>0.290000</td>\n",
       "      <td>69.810000</td>\n",
       "      <td>0.000000</td>\n",
       "      <td>5.430000</td>\n",
       "      <td>0.000000</td>\n",
       "      <td>0.000000</td>\n",
       "      <td>1.000000</td>\n",
       "    </tr>\n",
       "    <tr>\n",
       "      <th>25%</th>\n",
       "      <td>1.516522</td>\n",
       "      <td>12.907500</td>\n",
       "      <td>2.115000</td>\n",
       "      <td>1.190000</td>\n",
       "      <td>72.280000</td>\n",
       "      <td>0.122500</td>\n",
       "      <td>8.240000</td>\n",
       "      <td>0.000000</td>\n",
       "      <td>0.000000</td>\n",
       "      <td>1.000000</td>\n",
       "    </tr>\n",
       "    <tr>\n",
       "      <th>50%</th>\n",
       "      <td>1.517680</td>\n",
       "      <td>13.300000</td>\n",
       "      <td>3.480000</td>\n",
       "      <td>1.360000</td>\n",
       "      <td>72.790000</td>\n",
       "      <td>0.555000</td>\n",
       "      <td>8.600000</td>\n",
       "      <td>0.000000</td>\n",
       "      <td>0.000000</td>\n",
       "      <td>2.000000</td>\n",
       "    </tr>\n",
       "    <tr>\n",
       "      <th>75%</th>\n",
       "      <td>1.519157</td>\n",
       "      <td>13.825000</td>\n",
       "      <td>3.600000</td>\n",
       "      <td>1.630000</td>\n",
       "      <td>73.087500</td>\n",
       "      <td>0.610000</td>\n",
       "      <td>9.172500</td>\n",
       "      <td>0.000000</td>\n",
       "      <td>0.100000</td>\n",
       "      <td>3.000000</td>\n",
       "    </tr>\n",
       "    <tr>\n",
       "      <th>max</th>\n",
       "      <td>1.533930</td>\n",
       "      <td>17.380000</td>\n",
       "      <td>4.490000</td>\n",
       "      <td>3.500000</td>\n",
       "      <td>75.410000</td>\n",
       "      <td>6.210000</td>\n",
       "      <td>16.190000</td>\n",
       "      <td>3.150000</td>\n",
       "      <td>0.510000</td>\n",
       "      <td>7.000000</td>\n",
       "    </tr>\n",
       "  </tbody>\n",
       "</table>\n",
       "</div>"
      ],
      "text/plain": [
       "               RI          Na          Mg          Al          Si           K  \\\n",
       "count  214.000000  214.000000  214.000000  214.000000  214.000000  214.000000   \n",
       "mean     1.518365   13.407850    2.684533    1.444907   72.650935    0.497056   \n",
       "std      0.003037    0.816604    1.442408    0.499270    0.774546    0.652192   \n",
       "min      1.511150   10.730000    0.000000    0.290000   69.810000    0.000000   \n",
       "25%      1.516522   12.907500    2.115000    1.190000   72.280000    0.122500   \n",
       "50%      1.517680   13.300000    3.480000    1.360000   72.790000    0.555000   \n",
       "75%      1.519157   13.825000    3.600000    1.630000   73.087500    0.610000   \n",
       "max      1.533930   17.380000    4.490000    3.500000   75.410000    6.210000   \n",
       "\n",
       "               Ca          Ba          Fe        Type  \n",
       "count  214.000000  214.000000  214.000000  214.000000  \n",
       "mean     8.956963    0.175047    0.057009    2.780374  \n",
       "std      1.423153    0.497219    0.097439    2.103739  \n",
       "min      5.430000    0.000000    0.000000    1.000000  \n",
       "25%      8.240000    0.000000    0.000000    1.000000  \n",
       "50%      8.600000    0.000000    0.000000    2.000000  \n",
       "75%      9.172500    0.000000    0.100000    3.000000  \n",
       "max     16.190000    3.150000    0.510000    7.000000  "
      ]
     },
     "execution_count": 6,
     "metadata": {},
     "output_type": "execute_result"
    }
   ],
   "source": [
    "data.describe()"
   ]
  },
  {
   "cell_type": "code",
   "execution_count": 7,
   "id": "861a35c1",
   "metadata": {},
   "outputs": [
    {
     "data": {
      "text/plain": [
       "RI      0\n",
       "Na      0\n",
       "Mg      0\n",
       "Al      0\n",
       "Si      0\n",
       "K       0\n",
       "Ca      0\n",
       "Ba      0\n",
       "Fe      0\n",
       "Type    0\n",
       "dtype: int64"
      ]
     },
     "execution_count": 7,
     "metadata": {},
     "output_type": "execute_result"
    }
   ],
   "source": [
    "data.isnull().sum()"
   ]
  },
  {
   "cell_type": "code",
   "execution_count": 9,
   "id": "40f765f0",
   "metadata": {},
   "outputs": [
    {
     "data": {
      "image/png": "[encoded data removed]",
      "text/plain": [
       "<Figure size 1080x720 with 1 Axes>"
      ]
     },
     "metadata": {
      "needs_background": "light"
     },
     "output_type": "display_data"
    }
   ],
   "source": [
    "# Step 5: Check for Outliers and Inconsistencies\n",
    "# Using boxplots to visualize outliers\n",
    "plt.figure(figsize=(15, 10))\n",
    "sns.boxplot(data=data.drop('Type', axis=1))\n",
    "plt.title('Boxplot for detecting outliers')\n",
    "plt.xticks(rotation=90)\n",
    "plt.show()"
   ]
  },
  {
   "cell_type": "markdown",
   "id": "899559d1",
   "metadata": {},
   "source": [
    "# 2: Data Visualization:"
   ]
  },
  {
   "cell_type": "code",
   "execution_count": 11,
   "id": "d1f26d0b",
   "metadata": {},
   "outputs": [
    {
     "data": {
      "image/png": "[encoded data removed]",
      "text/plain": [
       "<Figure size 1080x720 with 12 Axes>"
      ]
     },
     "metadata": {
      "needs_background": "light"
     },
     "output_type": "display_data"
    }
   ],
   "source": [
    "# Histograms\n",
    "data.hist(bins=20, figsize=(15, 10))\n",
    "plt.suptitle('Histograms of Features')\n",
    "plt.show()"
   ]
  },
  {
   "cell_type": "code",
   "execution_count": 12,
   "id": "e9d2cd22",
   "metadata": {},
   "outputs": [
    {
     "data": {
      "image/png": "[encoded data removed]",
      "text/plain": [
       "<Figure size 1080x720 with 1 Axes>"
      ]
     },
     "metadata": {
      "needs_background": "light"
     },
     "output_type": "display_data"
    }
   ],
   "source": [
    "# Box Plots\n",
    "plt.figure(figsize=(15, 10))\n",
    "sns.boxplot(data=data.drop('Type', axis=1))\n",
    "plt.title('Boxplot for Features')\n",
    "plt.xticks(rotation=90)\n",
    "plt.show()"
   ]
  },
  {
   "cell_type": "code",
   "execution_count": 14,
   "id": "7c598896",
   "metadata": {},
   "outputs": [
    {
     "data": {
      "image/png": "[encoded data removed]",
      "text/plain": [
       "<Figure size 864x576 with 2 Axes>"
      ]
     },
     "metadata": {
      "needs_background": "light"
     },
     "output_type": "display_data"
    }
   ],
   "source": [
    "# Correlation Heatmap\n",
    "plt.figure(figsize=(12, 8))\n",
    "correlation_matrix = data.corr()\n",
    "sns.heatmap(correlation_matrix, annot=True, cmap='coolwarm')\n",
    "plt.title('Correlation Matrix')\n",
    "plt.show()"
   ]
  },
  {
   "cell_type": "markdown",
   "id": "124d65a2",
   "metadata": {},
   "source": [
    "# 3: Data Preprocessing:"
   ]
  },
  {
   "cell_type": "code",
   "execution_count": 15,
   "id": "7cdbce7a",
   "metadata": {},
   "outputs": [],
   "source": [
    "from sklearn.model_selection import train_test_split\n",
    "from sklearn.preprocessing import StandardScaler\n",
    "from sklearn.utils import resample\n"
   ]
  },
  {
   "cell_type": "code",
   "execution_count": 16,
   "id": "9e18470a",
   "metadata": {},
   "outputs": [
    {
     "data": {
      "text/plain": [
       "RI      0\n",
       "Na      0\n",
       "Mg      0\n",
       "Al      0\n",
       "Si      0\n",
       "K       0\n",
       "Ca      0\n",
       "Ba      0\n",
       "Fe      0\n",
       "Type    0\n",
       "dtype: int64"
      ]
     },
     "execution_count": 16,
     "metadata": {},
     "output_type": "execute_result"
    }
   ],
   "source": [
    "data.isnull().sum()"
   ]
  },
  {
   "cell_type": "markdown",
   "id": "f7b803fb",
   "metadata": {},
   "source": [
    " Since there are no missing values in this dataset, we proceed to the next steps.\n"
   ]
  },
  {
   "cell_type": "markdown",
   "id": "b9111e9f",
   "metadata": {},
   "source": [
    "Step 2: Encoding Categorical Variables\n",
    "\n",
    "The 'Type' column is already numerical, so no encoding is needed."
   ]
  },
  {
   "cell_type": "code",
   "execution_count": 19,
   "id": "47e4c3f9",
   "metadata": {},
   "outputs": [],
   "source": [
    "# Step 3: Feature Scaling\n",
    "# Separate features and target variable\n",
    "X = data.drop('Type', axis=1)\n",
    "y = data['Type']"
   ]
  },
  {
   "cell_type": "code",
   "execution_count": 20,
   "id": "1c37a1d1",
   "metadata": {},
   "outputs": [],
   "source": [
    "# Apply Standardization\n",
    "scaler = StandardScaler()\n",
    "X_scaled = scaler.fit_transform(X)"
   ]
  },
  {
   "cell_type": "code",
   "execution_count": 21,
   "id": "72e921d8",
   "metadata": {},
   "outputs": [
    {
     "name": "stdout",
     "output_type": "stream",
     "text": [
      "\n",
      "Class distribution before handling imbalance:\n",
      "2    76\n",
      "1    70\n",
      "7    29\n",
      "3    17\n",
      "5    13\n",
      "6     9\n",
      "Name: Type, dtype: int64\n"
     ]
    }
   ],
   "source": [
    "# Step 4: Handle Imbalanced Data\n",
    "# Check for imbalance in the target variable\n",
    "print(\"\\nClass distribution before handling imbalance:\")\n",
    "print(y.value_counts())"
   ]
  },
  {
   "cell_type": "code",
   "execution_count": 22,
   "id": "26770c8e",
   "metadata": {},
   "outputs": [],
   "source": [
    "# Combine the features and target for resampling\n",
    "data_resampled = pd.concat([pd.DataFrame(X_scaled, columns=X.columns), y], axis=1)"
   ]
  },
  {
   "cell_type": "code",
   "execution_count": 23,
   "id": "7d4961f8",
   "metadata": {},
   "outputs": [],
   "source": [
    "# Separate majority and minority classes\n",
    "class_counts = y.value_counts()\n",
    "majority_class = class_counts.idxmax()\n",
    "minority_classes = class_counts[class_counts < class_counts.max()].index.tolist()"
   ]
  },
  {
   "cell_type": "code",
   "execution_count": 24,
   "id": "f0037850",
   "metadata": {},
   "outputs": [],
   "source": [
    "# Upsample minority classes\n",
    "upsampled = []\n",
    "for class_ in minority_classes:\n",
    "    class_data = data_resampled[data_resampled['Type'] == class_]\n",
    "    upsampled_class_data = resample(class_data,\n",
    "                                    replace=True,  # Sample with replacement\n",
    "                                    n_samples=class_counts.max(),  # Match number of majority class\n",
    "                                    random_state=42)  # Reproducible results\n",
    "    upsampled.append(upsampled_class_data)"
   ]
  },
  {
   "cell_type": "code",
   "execution_count": 25,
   "id": "757eec3b",
   "metadata": {},
   "outputs": [],
   "source": [
    "# Combine majority class with upsampled minority classes\n",
    "majority_class_data = data_resampled[data_resampled['Type'] == majority_class]\n",
    "upsampled_data = pd.concat([majority_class_data] + upsampled)"
   ]
  },
  {
   "cell_type": "code",
   "execution_count": 26,
   "id": "7fee0f16",
   "metadata": {},
   "outputs": [],
   "source": [
    "# Separate features and target variable again after resampling\n",
    "X_resampled = upsampled_data.drop('Type', axis=1)\n",
    "y_resampled = upsampled_data['Type']"
   ]
  },
  {
   "cell_type": "code",
   "execution_count": 27,
   "id": "3af6dbac",
   "metadata": {},
   "outputs": [
    {
     "name": "stdout",
     "output_type": "stream",
     "text": [
      "\n",
      "Class distribution after handling imbalance:\n",
      "1    76\n",
      "2    76\n",
      "3    76\n",
      "5    76\n",
      "6    76\n",
      "7    76\n",
      "Name: Type, dtype: int64\n"
     ]
    }
   ],
   "source": [
    "# Check class distribution after handling imbalance\n",
    "print(\"\\nClass distribution after handling imbalance:\")\n",
    "print(y_resampled.value_counts())"
   ]
  },
  {
   "cell_type": "code",
   "execution_count": 28,
   "id": "cf4e693f",
   "metadata": {},
   "outputs": [],
   "source": [
    "# Split the resampled data into training and testing sets\n",
    "X_train, X_test, y_train, y_test = train_test_split(X_resampled, y_resampled, test_size=0.2, random_state=42)"
   ]
  },
  {
   "cell_type": "markdown",
   "id": "fea2b757",
   "metadata": {},
   "source": [
    "Data preprocessing complete. Ready for model training."
   ]
  },
  {
   "cell_type": "markdown",
   "id": "b5226c2f",
   "metadata": {},
   "source": [
    "# 4: Random Forest Model Implementation:"
   ]
  },
  {
   "cell_type": "code",
   "execution_count": 30,
   "id": "f3e231e8",
   "metadata": {},
   "outputs": [],
   "source": [
    "# Import necessary libraries\n",
    "from sklearn.ensemble import RandomForestClassifier\n",
    "from sklearn.metrics import accuracy_score, precision_score, recall_score, f1_score, classification_report, confusion_matrix\n"
   ]
  },
  {
   "cell_type": "code",
   "execution_count": 31,
   "id": "10d6f06d",
   "metadata": {},
   "outputs": [],
   "source": [
    "# Step 1: Data splitting was already done in preprocessing\n",
    "# X_train, X_test, y_train, y_test"
   ]
  },
  {
   "cell_type": "code",
   "execution_count": 32,
   "id": "a3d88a81",
   "metadata": {},
   "outputs": [],
   "source": [
    "# Step 2: Implementing the Random Forest Classifier\n",
    "rf_model = RandomForestClassifier(n_estimators=100, random_state=42)\n"
   ]
  },
  {
   "cell_type": "code",
   "execution_count": 33,
   "id": "bda2d94d",
   "metadata": {},
   "outputs": [
    {
     "data": {
      "text/html": [
       "<style>#sk-container-id-1 {color: black;}#sk-container-id-1 pre{padding: 0;}#sk-container-id-1 div.sk-toggleable {background-color: white;}#sk-container-id-1 label.sk-toggleable__label {cursor: pointer;display: block;width: 100%;margin-bottom: 0;padding: 0.3em;box-sizing: border-box;text-align: center;}#sk-container-id-1 label.sk-toggleable__label-arrow:before {content: \"▸\";float: left;margin-right: 0.25em;color: #696969;}#sk-container-id-1 label.sk-toggleable__label-arrow:hover:before {color: black;}#sk-container-id-1 div.sk-estimator:hover label.sk-toggleable__label-arrow:before {color: black;}#sk-container-id-1 div.sk-toggleable__content {max-height: 0;max-width: 0;overflow: hidden;text-align: left;background-color: #f0f8ff;}#sk-container-id-1 div.sk-toggleable__content pre {margin: 0.2em;color: black;border-radius: 0.25em;background-color: #f0f8ff;}#sk-container-id-1 input.sk-toggleable__control:checked~div.sk-toggleable__content {max-height: 200px;max-width: 100%;overflow: auto;}#sk-container-id-1 input.sk-toggleable__control:checked~label.sk-toggleable__label-arrow:before {content: \"▾\";}#sk-container-id-1 div.sk-estimator input.sk-toggleable__control:checked~label.sk-toggleable__label {background-color: #d4ebff;}#sk-container-id-1 div.sk-label input.sk-toggleable__control:checked~label.sk-toggleable__label {background-color: #d4ebff;}#sk-container-id-1 input.sk-hidden--visually {border: 0;clip: rect(1px 1px 1px 1px);clip: rect(1px, 1px, 1px, 1px);height: 1px;margin: -1px;overflow: hidden;padding: 0;position: absolute;width: 1px;}#sk-container-id-1 div.sk-estimator {font-family: monospace;background-color: #f0f8ff;border: 1px dotted black;border-radius: 0.25em;box-sizing: border-box;margin-bottom: 0.5em;}#sk-container-id-1 div.sk-estimator:hover {background-color: #d4ebff;}#sk-container-id-1 div.sk-parallel-item::after {content: \"\";width: 100%;border-bottom: 1px solid gray;flex-grow: 1;}#sk-container-id-1 div.sk-label:hover label.sk-toggleable__label {background-color: #d4ebff;}#sk-container-id-1 div.sk-serial::before {content: \"\";position: absolute;border-left: 1px solid gray;box-sizing: border-box;top: 0;bottom: 0;left: 50%;z-index: 0;}#sk-container-id-1 div.sk-serial {display: flex;flex-direction: column;align-items: center;background-color: white;padding-right: 0.2em;padding-left: 0.2em;position: relative;}#sk-container-id-1 div.sk-item {position: relative;z-index: 1;}#sk-container-id-1 div.sk-parallel {display: flex;align-items: stretch;justify-content: center;background-color: white;position: relative;}#sk-container-id-1 div.sk-item::before, #sk-container-id-1 div.sk-parallel-item::before {content: \"\";position: absolute;border-left: 1px solid gray;box-sizing: border-box;top: 0;bottom: 0;left: 50%;z-index: -1;}#sk-container-id-1 div.sk-parallel-item {display: flex;flex-direction: column;z-index: 1;position: relative;background-color: white;}#sk-container-id-1 div.sk-parallel-item:first-child::after {align-self: flex-end;width: 50%;}#sk-container-id-1 div.sk-parallel-item:last-child::after {align-self: flex-start;width: 50%;}#sk-container-id-1 div.sk-parallel-item:only-child::after {width: 0;}#sk-container-id-1 div.sk-dashed-wrapped {border: 1px dashed gray;margin: 0 0.4em 0.5em 0.4em;box-sizing: border-box;padding-bottom: 0.4em;background-color: white;}#sk-container-id-1 div.sk-label label {font-family: monospace;font-weight: bold;display: inline-block;line-height: 1.2em;}#sk-container-id-1 div.sk-label-container {text-align: center;}#sk-container-id-1 div.sk-container {/* jupyter's `normalize.less` sets `[hidden] { display: none; }` but bootstrap.min.css set `[hidden] { display: none !important; }` so we also need the `!important` here to be able to override the default hidden behavior on the sphinx rendered scikit-learn.org. See: https://github.com/scikit-learn/scikit-learn/issues/21755 */display: inline-block !important;position: relative;}#sk-container-id-1 div.sk-text-repr-fallback {display: none;}</style><div id=\"sk-container-id-1\" class=\"sk-top-container\"><div class=\"sk-text-repr-fallback\"><pre>RandomForestClassifier(random_state=42)</pre><b>In a Jupyter environment, please rerun this cell to show the HTML representation or trust the notebook. <br />On GitHub, the HTML representation is unable to render, please try loading this page with nbviewer.org.</b></div><div class=\"sk-container\" hidden><div class=\"sk-item\"><div class=\"sk-estimator sk-toggleable\"><input class=\"sk-toggleable__control sk-hidden--visually\" id=\"sk-estimator-id-1\" type=\"checkbox\" checked><label for=\"sk-estimator-id-1\" class=\"sk-toggleable__label sk-toggleable__label-arrow\">RandomForestClassifier</label><div class=\"sk-toggleable__content\"><pre>RandomForestClassifier(random_state=42)</pre></div></div></div></div></div>"
      ],
      "text/plain": [
       "RandomForestClassifier(random_state=42)"
      ]
     },
     "execution_count": 33,
     "metadata": {},
     "output_type": "execute_result"
    }
   ],
   "source": [
    "# Step 3: Train the model on the training data\n",
    "rf_model.fit(X_train, y_train)\n"
   ]
  },
  {
   "cell_type": "code",
   "execution_count": 34,
   "id": "5b62e876",
   "metadata": {},
   "outputs": [],
   "source": [
    "# Step 4: Make predictions on the test data\n",
    "y_pred = rf_model.predict(X_test)"
   ]
  },
  {
   "cell_type": "code",
   "execution_count": 35,
   "id": "138e4702",
   "metadata": {},
   "outputs": [],
   "source": [
    "# Step 5: Evaluate performance using various metrics\n",
    "accuracy = accuracy_score(y_test, y_pred)\n",
    "precision = precision_score(y_test, y_pred, average='weighted')\n",
    "recall = recall_score(y_test, y_pred, average='weighted')\n",
    "f1 = f1_score(y_test, y_pred, average='weighted')"
   ]
  },
  {
   "cell_type": "code",
   "execution_count": 36,
   "id": "d8d31b40",
   "metadata": {},
   "outputs": [
    {
     "name": "stdout",
     "output_type": "stream",
     "text": [
      "Accuracy: 0.9021739130434783\n",
      "Precision: 0.9210861602165951\n",
      "Recall: 0.9021739130434783\n",
      "F1-score: 0.9026170277230723\n"
     ]
    }
   ],
   "source": [
    "# Print evaluation metrics\n",
    "print(\"Accuracy:\", accuracy)\n",
    "print(\"Precision:\", precision)\n",
    "print(\"Recall:\", recall)\n",
    "print(\"F1-score:\", f1)"
   ]
  },
  {
   "cell_type": "code",
   "execution_count": 37,
   "id": "a0b90105",
   "metadata": {},
   "outputs": [
    {
     "name": "stdout",
     "output_type": "stream",
     "text": [
      "\n",
      "Classification Report:\n",
      "               precision    recall  f1-score   support\n",
      "\n",
      "           1       0.85      0.73      0.79        15\n",
      "           2       1.00      0.75      0.86        20\n",
      "           3       0.67      1.00      0.80        12\n",
      "           5       1.00      1.00      1.00        11\n",
      "           6       0.95      1.00      0.98        20\n",
      "           7       1.00      1.00      1.00        14\n",
      "\n",
      "    accuracy                           0.90        92\n",
      "   macro avg       0.91      0.91      0.90        92\n",
      "weighted avg       0.92      0.90      0.90        92\n",
      "\n"
     ]
    }
   ],
   "source": [
    "# Print classification report\n",
    "print(\"\\nClassification Report:\\n\", classification_report(y_test, y_pred))"
   ]
  },
  {
   "cell_type": "code",
   "execution_count": 38,
   "id": "5a7d5e61",
   "metadata": {},
   "outputs": [
    {
     "name": "stdout",
     "output_type": "stream",
     "text": [
      "\n",
      "Confusion Matrix:\n",
      " [[11  0  4  0  0  0]\n",
      " [ 2 15  2  0  1  0]\n",
      " [ 0  0 12  0  0  0]\n",
      " [ 0  0  0 11  0  0]\n",
      " [ 0  0  0  0 20  0]\n",
      " [ 0  0  0  0  0 14]]\n"
     ]
    }
   ],
   "source": [
    "# Print confusion matrix\n",
    "print(\"\\nConfusion Matrix:\\n\", confusion_matrix(y_test, y_pred))"
   ]
  },
  {
   "cell_type": "markdown",
   "id": "a1361546",
   "metadata": {},
   "source": [
    "# 5: Bagging and Boosting Methods"
   ]
  },
  {
   "cell_type": "code",
   "execution_count": 39,
   "id": "d85d4729",
   "metadata": {},
   "outputs": [],
   "source": [
    "# Import necessary libraries for Bagging and Boosting\n",
    "from sklearn.ensemble import BaggingClassifier, AdaBoostClassifier\n"
   ]
  },
  {
   "cell_type": "code",
   "execution_count": 40,
   "id": "6bb08d02",
   "metadata": {},
   "outputs": [
    {
     "name": "stderr",
     "output_type": "stream",
     "text": [
      "C:\\Users\\PRAPANJ K M\\anaconda3\\lib\\site-packages\\sklearn\\ensemble\\_base.py:156: FutureWarning: `base_estimator` was renamed to `estimator` in version 1.2 and will be removed in 1.4.\n",
      "  warnings.warn(\n"
     ]
    }
   ],
   "source": [
    "# Step 1: Apply Bagging\n",
    "bagging_model = BaggingClassifier(base_estimator=RandomForestClassifier(n_estimators=100, random_state=42),\n",
    "                                  n_estimators=10, random_state=42)\n",
    "bagging_model.fit(X_train, y_train)\n",
    "y_pred_bagging = bagging_model.predict(X_test)"
   ]
  },
  {
   "cell_type": "code",
   "execution_count": 41,
   "id": "0a2067e9",
   "metadata": {},
   "outputs": [],
   "source": [
    "# Evaluate Bagging model\n",
    "accuracy_bagging = accuracy_score(y_test, y_pred_bagging)\n",
    "precision_bagging = precision_score(y_test, y_pred_bagging, average='weighted')\n",
    "recall_bagging = recall_score(y_test, y_pred_bagging, average='weighted')\n",
    "f1_bagging = f1_score(y_test, y_pred_bagging, average='weighted')\n"
   ]
  },
  {
   "cell_type": "code",
   "execution_count": 42,
   "id": "068276e7",
   "metadata": {},
   "outputs": [
    {
     "name": "stdout",
     "output_type": "stream",
     "text": [
      "Bagging Model Performance:\n",
      "Accuracy: 0.9021739130434783\n",
      "Precision: 0.9210861602165951\n",
      "Recall: 0.9021739130434783\n",
      "F1-score: 0.9026170277230723\n",
      "\n",
      "Classification Report for Bagging:\n",
      "               precision    recall  f1-score   support\n",
      "\n",
      "           1       0.85      0.73      0.79        15\n",
      "           2       1.00      0.75      0.86        20\n",
      "           3       0.67      1.00      0.80        12\n",
      "           5       1.00      1.00      1.00        11\n",
      "           6       0.95      1.00      0.98        20\n",
      "           7       1.00      1.00      1.00        14\n",
      "\n",
      "    accuracy                           0.90        92\n",
      "   macro avg       0.91      0.91      0.90        92\n",
      "weighted avg       0.92      0.90      0.90        92\n",
      "\n",
      "Confusion Matrix for Bagging:\n",
      " [[11  0  4  0  0  0]\n",
      " [ 2 15  2  0  1  0]\n",
      " [ 0  0 12  0  0  0]\n",
      " [ 0  0  0 11  0  0]\n",
      " [ 0  0  0  0 20  0]\n",
      " [ 0  0  0  0  0 14]]\n"
     ]
    }
   ],
   "source": [
    "print(\"Bagging Model Performance:\")\n",
    "print(\"Accuracy:\", accuracy_bagging)\n",
    "print(\"Precision:\", precision_bagging)\n",
    "print(\"Recall:\", recall_bagging)\n",
    "print(\"F1-score:\", f1_bagging)\n",
    "print(\"\\nClassification Report for Bagging:\\n\", classification_report(y_test, y_pred_bagging))\n",
    "print(\"Confusion Matrix for Bagging:\\n\", confusion_matrix(y_test, y_pred_bagging))"
   ]
  },
  {
   "cell_type": "code",
   "execution_count": 43,
   "id": "ee93fb0a",
   "metadata": {},
   "outputs": [
    {
     "name": "stderr",
     "output_type": "stream",
     "text": [
      "C:\\Users\\PRAPANJ K M\\anaconda3\\lib\\site-packages\\sklearn\\ensemble\\_base.py:156: FutureWarning: `base_estimator` was renamed to `estimator` in version 1.2 and will be removed in 1.4.\n",
      "  warnings.warn(\n"
     ]
    }
   ],
   "source": [
    "# Step 2: Apply Boosting\n",
    "boosting_model = AdaBoostClassifier(base_estimator=RandomForestClassifier(n_estimators=100, random_state=42),\n",
    "                                    n_estimators=50, random_state=42)\n",
    "boosting_model.fit(X_train, y_train)\n",
    "y_pred_boosting = boosting_model.predict(X_test)"
   ]
  },
  {
   "cell_type": "code",
   "execution_count": 44,
   "id": "24b718be",
   "metadata": {},
   "outputs": [],
   "source": [
    "# Evaluate Boosting model\n",
    "accuracy_boosting = accuracy_score(y_test, y_pred_boosting)\n",
    "precision_boosting = precision_score(y_test, y_pred_boosting, average='weighted')\n",
    "recall_boosting = recall_score(y_test, y_pred_boosting, average='weighted')\n",
    "f1_boosting = f1_score(y_test, y_pred_boosting, average='weighted')\n"
   ]
  },
  {
   "cell_type": "code",
   "execution_count": 45,
   "id": "deffdd0e",
   "metadata": {},
   "outputs": [
    {
     "name": "stdout",
     "output_type": "stream",
     "text": [
      "\n",
      "Boosting Model Performance:\n",
      "Accuracy: 0.8913043478260869\n",
      "Precision: 0.9074992036948559\n",
      "Recall: 0.8913043478260869\n",
      "F1-score: 0.8918049734327572\n",
      "\n",
      "Classification Report for Boosting:\n",
      "               precision    recall  f1-score   support\n",
      "\n",
      "           1       0.85      0.73      0.79        15\n",
      "           2       0.94      0.75      0.83        20\n",
      "           3       0.67      1.00      0.80        12\n",
      "           5       1.00      1.00      1.00        11\n",
      "           6       0.95      1.00      0.98        20\n",
      "           7       1.00      0.93      0.96        14\n",
      "\n",
      "    accuracy                           0.89        92\n",
      "   macro avg       0.90      0.90      0.89        92\n",
      "weighted avg       0.91      0.89      0.89        92\n",
      "\n",
      "Confusion Matrix for Boosting:\n",
      " [[11  0  4  0  0  0]\n",
      " [ 2 15  2  0  1  0]\n",
      " [ 0  0 12  0  0  0]\n",
      " [ 0  0  0 11  0  0]\n",
      " [ 0  0  0  0 20  0]\n",
      " [ 0  1  0  0  0 13]]\n"
     ]
    }
   ],
   "source": [
    "print(\"\\nBoosting Model Performance:\")\n",
    "print(\"Accuracy:\", accuracy_boosting)\n",
    "print(\"Precision:\", precision_boosting)\n",
    "print(\"Recall:\", recall_boosting)\n",
    "print(\"F1-score:\", f1_boosting)\n",
    "print(\"\\nClassification Report for Boosting:\\n\", classification_report(y_test, y_pred_boosting))\n",
    "print(\"Confusion Matrix for Boosting:\\n\", confusion_matrix(y_test, y_pred_boosting))\n"
   ]
  },
  {
   "cell_type": "code",
   "execution_count": 46,
   "id": "99920f23",
   "metadata": {},
   "outputs": [
    {
     "name": "stdout",
     "output_type": "stream",
     "text": [
      "\n",
      "Comparison of Bagging and Boosting Models:\n",
      "Metric          Bagging         Boosting\n",
      "Accuracy        0.9022          0.8913\n",
      "Precision       0.9211          0.9075\n",
      "Recall          0.9022          0.8913\n",
      "F1-score        0.9026          0.8918\n"
     ]
    }
   ],
   "source": [
    "# Step 3: Compare Results\n",
    "print(\"\\nComparison of Bagging and Boosting Models:\")\n",
    "print(f\"{'Metric':<15} {'Bagging':<15} {'Boosting'}\")\n",
    "print(f\"{'Accuracy':<15} {accuracy_bagging:<15.4f} {accuracy_boosting:.4f}\")\n",
    "print(f\"{'Precision':<15} {precision_bagging:<15.4f} {precision_boosting:.4f}\")\n",
    "print(f\"{'Recall':<15} {recall_bagging:<15.4f} {recall_boosting:.4f}\")\n",
    "print(f\"{'F1-score':<15} {f1_bagging:<15.4f} {f1_boosting:.4f}\")"
   ]
  },
  {
   "cell_type": "markdown",
   "id": "64d432a9",
   "metadata": {},
   "source": [
    "# Additional Notes:"
   ]
  },
  {
   "cell_type": "markdown",
   "id": "208a037c",
   "metadata": {},
   "source": [
    "1. Explain Bagging and Boosting methods. How is it different from each other.\n"
   ]
  },
  {
   "cell_type": "markdown",
   "id": "f2f12105",
   "metadata": {},
   "source": [
    "Bagging (Bootstrap Aggregating)\n",
    "\n",
    "Bagging is an ensemble learning technique designed to improve the stability and accuracy of machine learning algorithms. It reduces variance and helps to avoid overfitting. The key steps in bagging are:\n",
    "\n",
    "1. Bootstrap Sampling: Multiple subsets of the training data are created by random sampling with replacement.\n",
    "2. Training Multiple Models: A base learner (e.g., a decision tree) is trained on each subset independently.\n",
    "3. Aggregating Predictions: The predictions from each model are combined to form the final output. For classification, a majority vote is typically used, while for regression, the average prediction is taken.\n",
    "\n",
    "Boosting\n",
    "\n",
    "Boosting is another ensemble technique that combines the predictions of several base estimators to improve robustness. Unlike bagging, boosting focuses on reducing bias. The key steps in boosting are:\n",
    "\n",
    "1. Sequential Training: Base learners are trained sequentially, with each model attempting to correct the errors of its predecessor.\n",
    "2. Weight Adjustment: Each observation's weight is adjusted based on the previous prediction errors, giving more importance to misclassified samples.\n",
    "3. Combining Models: The final model is a weighted sum of all the base learners, where each learner's weight is proportional to its accuracy.\n",
    "\n",
    "Differences Between Bagging and Boosting:"
   ]
  },
  {
   "cell_type": "markdown",
   "id": "317fd71a",
   "metadata": {},
   "source": [
    "1. Training Process:\n",
    "\n",
    "Bagging: Models are trained independently and in parallel.\n",
    "Boosting: Models are trained sequentially, with each model focusing on the errors of the previous one.\n",
    "    \n",
    "2. Error Handling:\n",
    "\n",
    "Bagging: Aims to reduce variance by averaging multiple models.\n",
    "Boosting: Aims to reduce bias by focusing on and correcting the errors of previous models.\n",
    "    \n",
    "3. Model Weighting:\n",
    "\n",
    "Bagging: All models are given equal weight in the final prediction.\n",
    "Boosting: Models are weighted based on their performance, with more accurate models given higher weights.\n",
    "    \n",
    "4. Overfitting:\n",
    "\n",
    "Bagging: Generally reduces the risk of overfitting by averaging.\n",
    "Boosting: Can be more prone to overfitting if not properly regularized."
   ]
  },
  {
   "cell_type": "markdown",
   "id": "0c257b9f",
   "metadata": {},
   "source": [
    "."
   ]
  },
  {
   "cell_type": "markdown",
   "id": "7ed81874",
   "metadata": {},
   "source": [
    "."
   ]
  },
  {
   "cell_type": "markdown",
   "id": "8b8d0ef1",
   "metadata": {},
   "source": [
    "2. Explain how to handle imbalance in the data. Explain within a paragraph."
   ]
  },
  {
   "cell_type": "markdown",
   "id": "effde3fc",
   "metadata": {},
   "source": [
    "Handling imbalanced data involves addressing the disproportionate representation of classes in a dataset to ensure that the machine learning model performs well across all classes. Common strategies include resampling techniques, such as oversampling the minority class to increase its representation (e.g., using SMOTE) or undersampling the majority class to reduce its dominance. Algorithmic approaches adjust class weights to give more importance to the minority class during model training. Additionally, ensemble methods like Balanced Random Forest or RUSBoost combine multiple models to better handle imbalances. Using appropriate evaluation metrics, such as precision, recall, and F1-score, helps in accurately assessing model performance in the presence of imbalanced classes. Combining these techniques can improve model robustness and generalization."
   ]
  },
  {
   "cell_type": "code",
   "execution_count": null,
   "id": "8241469f",
   "metadata": {},
   "outputs": [],
   "source": []
  }
 ],
 "metadata": {
  "kernelspec": {
   "display_name": "Python 3",
   "language": "python",
   "name": "python3"
  },
  "language_info": {
   "codemirror_mode": {
    "name": "ipython",
    "version": 3
   },
   "file_extension": ".py",
   "mimetype": "text/x-python",
   "name": "python",
   "nbconvert_exporter": "python",
   "pygments_lexer": "ipython3",
   "version": "3.8.8"
  }
 },
 "nbformat": 4,
 "nbformat_minor": 5
}
